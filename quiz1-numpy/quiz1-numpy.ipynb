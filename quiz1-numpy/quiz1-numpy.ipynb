{
 "cells": [
  {
   "cell_type": "markdown",
   "metadata": {},
   "source": [
    "### CMSC 197 (Machine Learning) - Quiz 1\n",
    "##### by Hismaña, Nikko Gabriel (2009-48594)"
   ]
  },
  {
   "cell_type": "markdown",
   "metadata": {},
   "source": [
    "PREREQ: Initializing Numpy"
   ]
  },
  {
   "cell_type": "code",
   "execution_count": 17,
   "metadata": {},
   "outputs": [],
   "source": [
    "import numpy as np"
   ]
  },
  {
   "cell_type": "markdown",
   "metadata": {},
   "source": [
    "## PART 1: "
   ]
  },
  {
   "cell_type": "markdown",
   "metadata": {},
   "source": [
    "1. Create 2 1D arrays, y_hat and y\n",
    "2. initialize y_hat with 20 linearly spaced numbers between -1 and 1"
   ]
  },
  {
   "cell_type": "code",
   "execution_count": 18,
   "metadata": {},
   "outputs": [
    {
     "name": "stdout",
     "output_type": "stream",
     "text": [
      "[-1.         -0.89473684 -0.78947368 -0.68421053 -0.57894737 -0.47368421\n",
      " -0.36842105 -0.26315789 -0.15789474 -0.05263158  0.05263158  0.15789474\n",
      "  0.26315789  0.36842105  0.47368421  0.57894737  0.68421053  0.78947368\n",
      "  0.89473684  1.        ]\n"
     ]
    }
   ],
   "source": [
    "#where np.linspace(start, stop, number of values)\n",
    "y_hat = np.linspace(-1, 1, 20)  \n",
    "#checking the content of y_hat\n",
    "print(y_hat)"
   ]
  },
  {
   "cell_type": "markdown",
   "metadata": {},
   "source": [
    "3. Initialize y with 20 linearly spaced numbers between 0 and 1"
   ]
  },
  {
   "cell_type": "code",
   "execution_count": 19,
   "metadata": {},
   "outputs": [
    {
     "name": "stdout",
     "output_type": "stream",
     "text": [
      "[0.         0.05263158 0.10526316 0.15789474 0.21052632 0.26315789\n",
      " 0.31578947 0.36842105 0.42105263 0.47368421 0.52631579 0.57894737\n",
      " 0.63157895 0.68421053 0.73684211 0.78947368 0.84210526 0.89473684\n",
      " 0.94736842 1.        ]\n"
     ]
    }
   ],
   "source": [
    "#where np.linspace(start, stop, number of values)\n",
    "y = np.linspace(0, 1, 20) \n",
    "#checking the content of y\n",
    "print(y)"
   ]
  },
  {
   "cell_type": "markdown",
   "metadata": {},
   "source": [
    "4. Compute for the shape and dimension of y_hat and y"
   ]
  },
  {
   "cell_type": "code",
   "execution_count": 20,
   "metadata": {},
   "outputs": [
    {
     "name": "stdout",
     "output_type": "stream",
     "text": [
      "y_hat\n",
      "y_hat shape: (20,)\n",
      "y_hat dimension: 1\n",
      "\n",
      "y\n",
      "y shape: (20,)\n",
      "y dimension: 1\n"
     ]
    }
   ],
   "source": [
    "# y_hat shape and dimensions\n",
    "print(\"y_hat\")\n",
    "print(f\"y_hat shape: {y_hat.shape}\")\n",
    "print(f\"y_hat dimension: {y_hat.ndim}\\n\")\n",
    "# y shape and dimensions\n",
    "print(\"y\")\n",
    "print(f\"y shape: {y.shape}\")\n",
    "print(f\"y dimension: {y.ndim}\")\n"
   ]
  },
  {
   "cell_type": "markdown",
   "metadata": {},
   "source": [
    "5. Create individual functions for each of the loss functions with y and y_hat as parameters\n",
    "6. Each function should return the loss value (L) "
   ]
  },
  {
   "cell_type": "markdown",
   "metadata": {},
   "source": [
    "### <header style=color:skyblue>Mean Squared Error (MSE):</p>"
   ]
  },
  {
   "cell_type": "code",
   "execution_count": 21,
   "metadata": {},
   "outputs": [
    {
     "name": "stdout",
     "output_type": "stream",
     "text": [
      "MSE loss value (L): 0.3421052631578948\n"
     ]
    }
   ],
   "source": [
    "# function defining mean squared error:\n",
    "def mse(y_hat, y):\n",
    "    #L = loss value\n",
    "    #use np.mean() to calculate the mean of the squared diff bet y_hat and y\n",
    "    L = np.mean((y_hat - y)**2)\n",
    "    return L \n",
    "    \n",
    "#running the mse function to get L:\n",
    "print(f\"MSE loss value (L): {mse(y_hat, y)}\")"
   ]
  },
  {
   "cell_type": "markdown",
   "metadata": {},
   "source": [
    "### <header style=color:magenta>Mean Absolute Error (MAE):</p>"
   ]
  },
  {
   "cell_type": "code",
   "execution_count": 22,
   "metadata": {},
   "outputs": [
    {
     "name": "stdout",
     "output_type": "stream",
     "text": [
      "MAE loss value (L): 0.4999999999999999\n"
     ]
    }
   ],
   "source": [
    "# function defining mean absolute error:\n",
    "def mae(y_hat, y):\n",
    "    #L = loss value\n",
    "    #use np.abs() to get absolute value\n",
    "    L = np.mean(np.abs(y_hat - y))\n",
    "    return L\n",
    "    \n",
    "#running the mae function to get L:\n",
    "print(f\"MAE loss value (L): {mae(y_hat, y)}\")"
   ]
  },
  {
   "cell_type": "markdown",
   "metadata": {},
   "source": [
    "### <header style=color:lightgreen>Mean Squared Logarithmic Error (MSLE):</p>"
   ]
  },
  {
   "cell_type": "code",
   "execution_count": 23,
   "metadata": {},
   "outputs": [
    {
     "name": "stdout",
     "output_type": "stream",
     "text": [
      "MSLE loss value (L): Loss value cannot be calculated, division by zero\n"
     ]
    },
    {
     "name": "stderr",
     "output_type": "stream",
     "text": [
      "C:\\Users\\asus\\AppData\\Local\\Temp\\ipykernel_20608\\1663691818.py:5: RuntimeWarning: divide by zero encountered in log\n",
      "  L = np.mean((np.log(y_hat + 1) - np.log(y + 1))**2)\n"
     ]
    }
   ],
   "source": [
    "# function defining mean squared logaritmic error:\n",
    "def msle(y_hat, y):\n",
    "    #L = loss value\n",
    "    #use np.log() to get logaritmic value of y_hat +1 and y+1 squared\n",
    "    L = np.mean((np.log(y_hat + 1) - np.log(y + 1))**2)\n",
    "    if L == np.inf:\n",
    "        return \"Loss value cannot be calculated, division by zero\"\n",
    "    return L\n",
    "    \n",
    "#running the msle function to get L:\n",
    "print(f\"MSLE loss value (L): {msle(y_hat, y)}\")"
   ]
  },
  {
   "cell_type": "markdown",
   "metadata": {},
   "source": [
    "##### <p style=color:red> Note: For this example, MSLE function will result in an error due to dividing by zero </p>"
   ]
  },
  {
   "cell_type": "markdown",
   "metadata": {},
   "source": [
    "### <header style=color:yellow>Mean Absolute Percentage Error (MAPE):</p>"
   ]
  },
  {
   "cell_type": "code",
   "execution_count": 24,
   "metadata": {},
   "outputs": [
    {
     "name": "stdout",
     "output_type": "stream",
     "text": [
      "MAPE loss value (L): Loss value cannot be calculated, division by zero\n"
     ]
    },
    {
     "name": "stderr",
     "output_type": "stream",
     "text": [
      "C:\\Users\\asus\\AppData\\Local\\Temp\\ipykernel_20608\\1562451304.py:5: RuntimeWarning: divide by zero encountered in divide\n",
      "  L = np.mean(np.abs((y_hat - y)/y))\n"
     ]
    }
   ],
   "source": [
    "# function defining mean absolute percentage error:\n",
    "def mape(y_hat, y):\n",
    "    #L = loss value\n",
    "    #use np.abs() to get absolute value of y_hat - y divided by y\n",
    "    L = np.mean(np.abs((y_hat - y)/y))\n",
    "    if L == np.inf:\n",
    "        return \"Loss value cannot be calculated, division by zero\"\n",
    "    return L\n",
    "\n",
    "#running the mape function to get L:\n",
    "print(f\"MAPE loss value (L): {mape(y_hat, y)}\")"
   ]
  },
  {
   "cell_type": "markdown",
   "metadata": {},
   "source": [
    "##### <p style=color:red> Note: For this example, MAPE function will result in an error due to dividing by zero </p>"
   ]
  },
  {
   "cell_type": "markdown",
   "metadata": {},
   "source": [
    "## PART 2: "
   ]
  },
  {
   "cell_type": "markdown",
   "metadata": {},
   "source": [
    "1. Create a 1d array M {1, 2, …16} using the arange function"
   ]
  },
  {
   "cell_type": "code",
   "execution_count": 25,
   "metadata": {},
   "outputs": [
    {
     "name": "stdout",
     "output_type": "stream",
     "text": [
      "[ 1  2  3  4  5  6  7  8  9 10 11 12 13 14 15 16]\n"
     ]
    }
   ],
   "source": [
    "#arange method: np.arange(start, stop, step)\n",
    "M = np.arange(1, 17, 1)\n",
    "#check contents of M\n",
    "print(M)"
   ]
  },
  {
   "cell_type": "markdown",
   "metadata": {},
   "source": [
    "2. Reshape M into 4x4 array and store it to N"
   ]
  },
  {
   "cell_type": "code",
   "execution_count": 26,
   "metadata": {},
   "outputs": [
    {
     "name": "stdout",
     "output_type": "stream",
     "text": [
      "[[ 1  2  3  4]\n",
      " [ 5  6  7  8]\n",
      " [ 9 10 11 12]\n",
      " [13 14 15 16]]\n"
     ]
    }
   ],
   "source": [
    "#numpy reshape function: N.reshape(row, column)\n",
    "N = M.reshape(4, 4)\n",
    "#check contents of N matrix:\n",
    "print(N)"
   ]
  },
  {
   "cell_type": "markdown",
   "metadata": {},
   "source": [
    "3. Get the 2nd row of N"
   ]
  },
  {
   "cell_type": "code",
   "execution_count": 27,
   "metadata": {},
   "outputs": [
    {
     "name": "stdout",
     "output_type": "stream",
     "text": [
      "second row values: [5 6 7 8]\n"
     ]
    }
   ],
   "source": [
    "#get the 2nd row of N matrix:\n",
    "print(f\"second row values: {N[1]}\") #recall that indexing starts from 0, so 1 is the 2nd row"
   ]
  },
  {
   "cell_type": "markdown",
   "metadata": {},
   "source": [
    "4. Get the minimum values for each column of N"
   ]
  },
  {
   "cell_type": "code",
   "execution_count": 28,
   "metadata": {},
   "outputs": [
    {
     "name": "stdout",
     "output_type": "stream",
     "text": [
      "Minimum value for column 0: 1\n",
      "Minimum value for column 1: 2\n",
      "Minimum value for column 2: 3\n",
      "Minimum value for column 3: 4\n"
     ]
    }
   ],
   "source": [
    "#store the minimum values for each column of N using np.min() function:\n",
    "min_col = np.min(N, axis=0)\n",
    "\n",
    "#print out the min_N values:\n",
    "for i in range(len(min_col)):\n",
    "    print(f\"Minimum value for column {i}: {min_col[i]}\")"
   ]
  },
  {
   "cell_type": "markdown",
   "metadata": {},
   "source": [
    "5. Get the locations of the minimum values for each column of N"
   ]
  },
  {
   "cell_type": "code",
   "execution_count": 29,
   "metadata": {},
   "outputs": [
    {
     "name": "stdout",
     "output_type": "stream",
     "text": [
      "Minimum value for column 0 is 1 at coordinate: (0, 0)\n",
      "Minimum value for column 1 is 2 at coordinate: (0, 1)\n",
      "Minimum value for column 2 is 3 at coordinate: (0, 2)\n",
      "Minimum value for column 3 is 4 at coordinate: (0, 3)\n"
     ]
    }
   ],
   "source": [
    "#use np.where method to get the coordinate of the minimum value for each column of N:\n",
    "#np.where returns a tuple of arrays:\n",
    "# first array contains the row numbers \n",
    "# second array contains the column numbers\n",
    "min_col_index = np.where(N == min_col)\n",
    "\n",
    "#print out the coordinate of the min_N values per column:\n",
    "for i in range(len(min_col)):\n",
    "    # min_col_index[0][i] is the row coordinate of the min val for the i-th column\n",
    "    # min_col_index[1][i] is the column coordinate of the min val for the i-th column\n",
    "    print(f\"Minimum value for column {i} is {min_col[i]} at coordinate: {min_col_index[0][i], min_col_index[1][i]}\")"
   ]
  },
  {
   "cell_type": "markdown",
   "metadata": {},
   "source": [
    "6. Get the average of the whole matrix"
   ]
  },
  {
   "cell_type": "code",
   "execution_count": 30,
   "metadata": {},
   "outputs": [
    {
     "name": "stdout",
     "output_type": "stream",
     "text": [
      "Average value of N: 8.5\n"
     ]
    }
   ],
   "source": [
    "#use np.mean() method to compute for the average of the whole matrix N:\n",
    "avg_N = np.mean(N)\n",
    "#print out the avg_N value:\n",
    "print(f\"Average value of N: {avg_N}\")"
   ]
  },
  {
   "cell_type": "markdown",
   "metadata": {},
   "source": [
    "7. Create a vector V with 4 elements, each element is 1"
   ]
  },
  {
   "cell_type": "code",
   "execution_count": 31,
   "metadata": {},
   "outputs": [
    {
     "name": "stdout",
     "output_type": "stream",
     "text": [
      "Vector V has contents: [1 1 1 1]\n"
     ]
    }
   ],
   "source": [
    "#use np.ones method to create a matrix with 1s as value:\n",
    "#where np.ones((row,col), dtype= type of value)\n",
    "V = np.ones(4, dtype=int)\n",
    "#check contents of V:\n",
    "print(f\"Vector V has contents: {V}\")"
   ]
  },
  {
   "cell_type": "markdown",
   "metadata": {},
   "source": [
    "8. Take the dot product of N and V"
   ]
  },
  {
   "cell_type": "code",
   "execution_count": 32,
   "metadata": {},
   "outputs": [
    {
     "name": "stdout",
     "output_type": "stream",
     "text": [
      "Dot product of matrix N and vector V: [10 26 42 58]\n"
     ]
    }
   ],
   "source": [
    "#use np.dot method to compute for the dot product of N and V:\n",
    "dot_prod = np.dot(N, V)\n",
    "#check contents of dot_prod:\n",
    "print(f\"Dot product of matrix N and vector V: {dot_prod}\")\n"
   ]
  },
  {
   "cell_type": "markdown",
   "metadata": {},
   "source": [
    "# ========= END OF QUIZ ========="
   ]
  }
 ],
 "metadata": {
  "kernelspec": {
   "display_name": "Python 3.10.0 64-bit",
   "language": "python",
   "name": "python3"
  },
  "language_info": {
   "codemirror_mode": {
    "name": "ipython",
    "version": 3
   },
   "file_extension": ".py",
   "mimetype": "text/x-python",
   "name": "python",
   "nbconvert_exporter": "python",
   "pygments_lexer": "ipython3",
   "version": "3.10.0"
  },
  "orig_nbformat": 4,
  "vscode": {
   "interpreter": {
    "hash": "876db7d3f8682b7e4c5477e5f1e2dc2bd1b19fe05d9aabd59218369070754b39"
   }
  }
 },
 "nbformat": 4,
 "nbformat_minor": 2
}
