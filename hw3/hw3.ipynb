{
 "cells": [
  {
   "cell_type": "markdown",
   "metadata": {},
   "source": [
    "## CMSC 197 (Machine Learning)\n",
    "<p>\"Assignment 3 - Implementing Linear Regression with Gradient Descent as Optimization Function\"</p>\n",
    "<p>by Hismaña, Nikko Gabriel (2009-48594)</p>"
   ]
  },
  {
   "cell_type": "markdown",
   "metadata": {},
   "source": [
    "#### General Form of Multiple Linear Regression\n",
    "<i>h_theta(x) = theta_0 + (theta_1 * x_1) + (theta_2 * x_2) ... + (theta_n * x_n) = theta.T * x</i>\n",
    "\n",
    "<li>where: x_1, x_2, ..., x_n are the model predictors\n",
    "<li>where: theta_0, theta_1, ..., theta_n are the weights associated to each predictor<p>\n",
    "\n",
    "<p>We can represent the model as a matrix equation:\n",
    "<p><i>(theta.T * x)</i>"
   ]
  },
  {
   "cell_type": "markdown",
   "metadata": {},
   "source": [
    "#### Gradient Descent Common Cost Function\n",
    "<i>J(theta) = (1/2m) * sum(h_theta(x^(i)) - y^(i))^2</i>\n",
    "<li>where: h_theta(x^(i)) = y_hat^(i) represents the predictions made by the model\n",
    "<li>where: m is the number of training examples\n",
    "<li>where: x^(i) is the i-th training example\n",
    "<li>where: y^(i) is the i-th training example's output\n"
   ]
  },
  {
   "cell_type": "markdown",
   "metadata": {},
   "source": [
    "#### Formula on updating all the parameters/weights in the model\n",
    "To repeat until convergence {<p>\n",
    "    <i>theta_j := theta_j - alpha * (1/m) * sum(h_theta(y_hat^(i)) - y^(i)) * x_j^(i)</i>\n",
    "    <p>\n",
    "} simultaneously update theta_j for all j\n",
    "\n",
    "<li>where: theta_j -  j-th parameter/weight assoc'd to predictor\n",
    "<li>where: alpha -  learning rate\n",
    "<li>where: y_hat^(i) -  predicted y\n",
    "<li>where: y^(i) - actual y\n",
    "<li>where: x_j^(i) - data points\n",
    "<li>where: m - number of samples"
   ]
  },
  {
   "cell_type": "markdown",
   "metadata": {},
   "source": [
    "## 0. Import Libraries"
   ]
  },
  {
   "cell_type": "code",
   "execution_count": 1,
   "metadata": {},
   "outputs": [],
   "source": [
    "### standard libraries (allowed as per instructions)\n",
    "import numpy as np\n",
    "import pandas as pd\n",
    "import matplotlib.pyplot as plt\n",
    "import seaborn as sns\n",
    "\n",
    "%matplotlib inline\n",
    "\n",
    "### sklearn libraries \n",
    "# sklearn for preprocessing data (standardization, splitting data)\n",
    "from sklearn.preprocessing import StandardScaler\n",
    "from sklearn.preprocessing import PolynomialFeatures\n",
    "from sklearn.model_selection import train_test_split\n",
    "\n",
    "# sklearn for checking MSE and r2 vals:\n",
    "from sklearn.metrics import mean_squared_error, r2_score, mean_absolute_error\n",
    "from sklearn.model_selection import cross_val_score\n",
    "\n",
    "# sklearn for comparison of implementation from scratch and the OLS results since sklearn uses LS for linear regression:\n",
    "from sklearn.linear_model import LinearRegression, Lasso, Ridge"
   ]
  },
  {
   "cell_type": "markdown",
   "metadata": {},
   "source": [
    "## 1. Load Dataset"
   ]
  },
  {
   "cell_type": "code",
   "execution_count": 2,
   "metadata": {},
   "outputs": [
    {
     "name": "stdout",
     "output_type": "stream",
     "text": [
      "Dataset:\n"
     ]
    },
    {
     "data": {
      "text/html": [
       "<div>\n",
       "<style scoped>\n",
       "    .dataframe tbody tr th:only-of-type {\n",
       "        vertical-align: middle;\n",
       "    }\n",
       "\n",
       "    .dataframe tbody tr th {\n",
       "        vertical-align: top;\n",
       "    }\n",
       "\n",
       "    .dataframe thead th {\n",
       "        text-align: right;\n",
       "    }\n",
       "</style>\n",
       "<table border=\"1\" class=\"dataframe\">\n",
       "  <thead>\n",
       "    <tr style=\"text-align: right;\">\n",
       "      <th></th>\n",
       "      <th>TV</th>\n",
       "      <th>Radio</th>\n",
       "      <th>Newspaper</th>\n",
       "      <th>Sales</th>\n",
       "    </tr>\n",
       "  </thead>\n",
       "  <tbody>\n",
       "    <tr>\n",
       "      <th>1</th>\n",
       "      <td>230.1</td>\n",
       "      <td>37.8</td>\n",
       "      <td>69.2</td>\n",
       "      <td>22.1</td>\n",
       "    </tr>\n",
       "    <tr>\n",
       "      <th>2</th>\n",
       "      <td>44.5</td>\n",
       "      <td>39.3</td>\n",
       "      <td>45.1</td>\n",
       "      <td>10.4</td>\n",
       "    </tr>\n",
       "    <tr>\n",
       "      <th>3</th>\n",
       "      <td>17.2</td>\n",
       "      <td>45.9</td>\n",
       "      <td>69.3</td>\n",
       "      <td>9.3</td>\n",
       "    </tr>\n",
       "    <tr>\n",
       "      <th>4</th>\n",
       "      <td>151.5</td>\n",
       "      <td>41.3</td>\n",
       "      <td>58.5</td>\n",
       "      <td>18.5</td>\n",
       "    </tr>\n",
       "    <tr>\n",
       "      <th>5</th>\n",
       "      <td>180.8</td>\n",
       "      <td>10.8</td>\n",
       "      <td>58.4</td>\n",
       "      <td>12.9</td>\n",
       "    </tr>\n",
       "  </tbody>\n",
       "</table>\n",
       "</div>"
      ],
      "text/plain": [
       "      TV  Radio  Newspaper  Sales\n",
       "1  230.1   37.8       69.2   22.1\n",
       "2   44.5   39.3       45.1   10.4\n",
       "3   17.2   45.9       69.3    9.3\n",
       "4  151.5   41.3       58.5   18.5\n",
       "5  180.8   10.8       58.4   12.9"
      ]
     },
     "execution_count": 2,
     "metadata": {},
     "output_type": "execute_result"
    }
   ],
   "source": [
    "# BUGFIX: need to chdir since relative path was not working\n",
    "# comment out if running on local machine\n",
    "import os\n",
    "os.chdir('C:/Users/asus/ML_Repos/Activities/hw3')\n",
    "\n",
    "# load Advertising.csv using pandas\n",
    "data = pd.read_csv(\"Advertising.csv\", index_col=0)\n",
    "print(\"Dataset:\")\n",
    "data.head()"
   ]
  },
  {
   "cell_type": "code",
   "execution_count": 3,
   "metadata": {},
   "outputs": [
    {
     "name": "stdout",
     "output_type": "stream",
     "text": [
      "Predictors/Features:\n",
      "['TV', 'Radio', 'Newspaper']\n",
      "Response:\n",
      "Sales\n"
     ]
    }
   ],
   "source": [
    "# print predictors\n",
    "print(\"Predictors/Features:\")\n",
    "print(list(data.columns)[:-1])\n",
    "\n",
    "# print response\n",
    "print(\"Response:\")\n",
    "print(data.columns[-1])"
   ]
  },
  {
   "cell_type": "markdown",
   "metadata": {},
   "source": [
    "## 2. Standardize each column of the dataset"
   ]
  },
  {
   "cell_type": "markdown",
   "metadata": {},
   "source": [
    "For each predictor x_j, for all j, compute for the sntandadized values:\n",
    "\n",
    "x_scaled = (x_j - mean(x)) / std(x)<p>\n",
    "y_scaled = (y_j - mean(y)) / std(y)\n",
    "\n",
    "ensures that the data is centered around zero, and that SD is always 1."
   ]
  },
  {
   "cell_type": "code",
   "execution_count": 4,
   "metadata": {},
   "outputs": [
    {
     "data": {
      "text/html": [
       "<div>\n",
       "<style scoped>\n",
       "    .dataframe tbody tr th:only-of-type {\n",
       "        vertical-align: middle;\n",
       "    }\n",
       "\n",
       "    .dataframe tbody tr th {\n",
       "        vertical-align: top;\n",
       "    }\n",
       "\n",
       "    .dataframe thead th {\n",
       "        text-align: right;\n",
       "    }\n",
       "</style>\n",
       "<table border=\"1\" class=\"dataframe\">\n",
       "  <thead>\n",
       "    <tr style=\"text-align: right;\">\n",
       "      <th></th>\n",
       "      <th>TV</th>\n",
       "      <th>Radio</th>\n",
       "      <th>Newspaper</th>\n",
       "      <th>Sales</th>\n",
       "    </tr>\n",
       "  </thead>\n",
       "  <tbody>\n",
       "    <tr>\n",
       "      <th>1</th>\n",
       "      <td>0.969852</td>\n",
       "      <td>0.981522</td>\n",
       "      <td>1.778945</td>\n",
       "      <td>1.552053</td>\n",
       "    </tr>\n",
       "    <tr>\n",
       "      <th>2</th>\n",
       "      <td>-1.197376</td>\n",
       "      <td>1.082808</td>\n",
       "      <td>0.669579</td>\n",
       "      <td>-0.696046</td>\n",
       "    </tr>\n",
       "    <tr>\n",
       "      <th>3</th>\n",
       "      <td>-1.516155</td>\n",
       "      <td>1.528463</td>\n",
       "      <td>1.783549</td>\n",
       "      <td>-0.907406</td>\n",
       "    </tr>\n",
       "    <tr>\n",
       "      <th>4</th>\n",
       "      <td>0.052050</td>\n",
       "      <td>1.217855</td>\n",
       "      <td>1.286405</td>\n",
       "      <td>0.860330</td>\n",
       "    </tr>\n",
       "    <tr>\n",
       "      <th>5</th>\n",
       "      <td>0.394182</td>\n",
       "      <td>-0.841614</td>\n",
       "      <td>1.281802</td>\n",
       "      <td>-0.215683</td>\n",
       "    </tr>\n",
       "  </tbody>\n",
       "</table>\n",
       "</div>"
      ],
      "text/plain": [
       "         TV     Radio  Newspaper     Sales\n",
       "1  0.969852  0.981522   1.778945  1.552053\n",
       "2 -1.197376  1.082808   0.669579 -0.696046\n",
       "3 -1.516155  1.528463   1.783549 -0.907406\n",
       "4  0.052050  1.217855   1.286405  0.860330\n",
       "5  0.394182 -0.841614   1.281802 -0.215683"
      ]
     },
     "execution_count": 4,
     "metadata": {},
     "output_type": "execute_result"
    }
   ],
   "source": [
    "# create new dataframe for standardization\n",
    "data_standardized = data.copy()\n",
    "data_standardized.head()\n",
    "scaler = StandardScaler()\n",
    "\n",
    "# standardize all columns using sklearn StandardScaler:\n",
    "cols = data_standardized.columns[:] # all columns including response\n",
    "data_standardized[cols] = scaler.fit_transform(data_standardized[cols])\n",
    "\n",
    "# print top 5 rows of standardized data to check\n",
    "data_standardized.head()"
   ]
  },
  {
   "cell_type": "code",
   "execution_count": 5,
   "metadata": {},
   "outputs": [
    {
     "data": {
      "text/plain": [
       "(200, 4)"
      ]
     },
     "execution_count": 5,
     "metadata": {},
     "output_type": "execute_result"
    }
   ],
   "source": [
    "# check shape of standardized data (TV, radio, sales)\n",
    "data_standardized.shape #should be (200, 4)"
   ]
  },
  {
   "cell_type": "markdown",
   "metadata": {},
   "source": [
    "## 3. Add extra colmn of 1s to X"
   ]
  },
  {
   "cell_type": "code",
   "execution_count": 6,
   "metadata": {},
   "outputs": [
    {
     "name": "stdout",
     "output_type": "stream",
     "text": [
      "   Bias        TV     Radio  Newspaper     Sales\n",
      "1     1  0.969852  0.981522   1.778945  1.552053\n",
      "2     1 -1.197376  1.082808   0.669579 -0.696046\n",
      "3     1 -1.516155  1.528463   1.783549 -0.907406\n",
      "4     1  0.052050  1.217855   1.286405  0.860330\n",
      "5     1  0.394182 -0.841614   1.281802 -0.215683\n",
      "Size of standardized data: (200, 5)\n"
     ]
    }
   ],
   "source": [
    "# add column of ones to first column of standardized data\n",
    "# BUGFIX: use if condition to prevent inserting when Ones column already exists\n",
    "if 'Bias' not in data_standardized.columns:\n",
    "    data_standardized.insert(0, 'Bias', 1)\n",
    "\n",
    "print(data_standardized.head())\n",
    "print(\"Size of standardized data:\", data_standardized.shape) #should be (200,5) including add'l column for bias"
   ]
  },
  {
   "cell_type": "markdown",
   "metadata": {},
   "source": [
    "## 4. Divide Dataset into training and testing sets (75:25)"
   ]
  },
  {
   "cell_type": "code",
   "execution_count": 7,
   "metadata": {},
   "outputs": [
    {
     "name": "stdout",
     "output_type": "stream",
     "text": [
      "x_train shape: (150, 4)\n",
      "     Bias        TV     Radio  Newspaper\n",
      "115     1 -0.803865  1.589235   0.181642\n",
      "174     1  0.249389 -1.091451  -0.817249\n",
      "6       1 -1.615408  1.731034   2.045930\n",
      "127     1 -1.625918  1.055798   0.922754\n",
      "118     1 -0.824884 -1.516849  -0.725185\n",
      "\n",
      "x_test shape: (50, 4)\n",
      "     Bias        TV     Radio  Newspaper\n",
      "96      1  0.189837  0.562876   1.028627\n",
      "16      1  0.564665  1.650006   1.028627\n",
      "31      1  1.703160  0.340049   0.582118\n",
      "159     1 -1.580378  0.920751   0.674182\n",
      "129     1  0.855419  1.737786  -1.259154\n",
      "\n",
      "y_train shape: (150,)\n",
      "115    0.110964\n",
      "174   -0.446257\n",
      "6     -1.310911\n",
      "127   -1.426198\n",
      "118   -0.888191\n",
      "Name: Sales, dtype: float64\n",
      "\n",
      "y_test shape: (50,)\n",
      "96     0.552898\n",
      "16     1.609697\n",
      "31     1.417551\n",
      "159   -1.291696\n",
      "129    2.051631\n",
      "Name: Sales, dtype: float64\n"
     ]
    }
   ],
   "source": [
    "### DATAFRAMES\n",
    "# create x and y dataframes\n",
    "x = data_standardized.drop('Sales', axis=1)\n",
    "y = data_standardized[\"Sales\"] # all rows of Sales column\n",
    "\n",
    "### SPLITTING DATA\n",
    "# split data into training and testing sets 75/25\n",
    "x_train, x_test, y_train, y_test = train_test_split(x, y, test_size=0.25, random_state=42) #using random_state 42 for reproducibility (same used in lecture code)\n",
    "\n",
    "# print shapes of training and testing sets to check 75/25 split\n",
    "# correct splitting for a sample of 200 at 75:25 testing, training is:\n",
    "# 150 training (75%), 50 testing (25%)\n",
    "print(\"x_train shape:\", x_train.shape)\n",
    "print(x_train.head())\n",
    "print(\"\\nx_test shape:\", x_test.shape)\n",
    "print(x_test.head())\n",
    "print(\"\\ny_train shape:\", y_train.shape)\n",
    "print(y_train.head())\n",
    "print(\"\\ny_test shape:\", y_test.shape)\n",
    "print(y_test.head())\n",
    "\n",
    "#save Bias column, to be used for functions in part 5\n",
    "bias = x['Bias']\n",
    "bias_test = x_test['Bias']\n",
    "bias_train = x_train['Bias']"
   ]
  },
  {
   "cell_type": "markdown",
   "metadata": {},
   "source": [
    "## 5. Fit the model on the training set."
   ]
  },
  {
   "cell_type": "markdown",
   "metadata": {},
   "source": [
    "### 5.1 Initialize_weights function\n",
    "<li>Returns a vector init_w composing of 4 uniformly distributed numbers between 0 and 1.\n",
    "<li>This serves as the initial weights theta_j, for j = 0,1,2,3.\n",
    "<li>You can set a random seed so you can objectively assess if your model is working correctly.\n",
    "<li>Seed function is used to save the state of a random function, so that it generate same random numbers on multiple execs.\n",
    "<p>\n",
    "<li><i>ALTERNATIVELY</i>: you can just set init_w = np.array([0.0, 0.0, 0.0, 0.0])\n",
    "<li><i>NOTE</i>: the first weight refers to the weight of the bias and the rest represents the weights of the predictors (i.e. TV, radio, newspaper)"
   ]
  },
  {
   "cell_type": "code",
   "execution_count": 8,
   "metadata": {},
   "outputs": [
    {
     "name": "stdout",
     "output_type": "stream",
     "text": [
      "Initialized weights: [0.37454012 0.95071431 0.73199394 0.59865848]\n",
      "Initialized weights: [0. 0. 0. 0.]\n"
     ]
    }
   ],
   "source": [
    "# create a function initialize_weights() that returns a vector init_w with 4 elements uniformly distributed between 0 and 1\n",
    "\n",
    "def initialize_weights(random_seed):\n",
    "    #use .randomState(random_seed) for reproducibility\n",
    "    #use .uniform() to generate random numbers between 0 and 1, size=4\n",
    "    init_w = np.random.RandomState(random_seed).uniform(0,1,4)\n",
    "    return init_w\n",
    "\n",
    "#use random seed 42 for reproducibility (can be changed to any other number)\n",
    "random_seed = 42 # you can change this to any other number, currently default\n",
    "# save initial weights to init_w\n",
    "init_w = initialize_weights(random_seed)\n",
    "\n",
    "print(\"Initialized weights:\", init_w) \n",
    "\n",
    "#ALTERNATIVE init_w = np.array[0.0, 0.0, 0.0, 0.0]\n",
    "def initialize_weights_zeros():\n",
    "    #use np.zeros() to initialize weights to 0\n",
    "    init_w_zeros = np.zeros(4)\n",
    "    return init_w_zeros\n",
    "# save initial weights zeroes to init_w_zeros\n",
    "init_w_zeros = initialize_weights_zeros()\n",
    "\n",
    "print(\"Initialized weights:\", init_w_zeros)\n"
   ]
  },
  {
   "cell_type": "markdown",
   "metadata": {},
   "source": [
    "### 5.2 Predict function\n",
    "<li> Returns a vector of the predicted values y_hat^(i)"
   ]
  },
  {
   "cell_type": "code",
   "execution_count": 9,
   "metadata": {},
   "outputs": [],
   "source": [
    "def predict(init_w, x):\n",
    "    # use np.sum and np.multipy to calculate the dot product of init_w and x and sum the result\n",
    "    return np.sum(np.multiply(init_w, x), axis = 1) #axis=1 to sum across columns\n"
   ]
  },
  {
   "cell_type": "markdown",
   "metadata": {},
   "source": [
    "### 5.3 Compute_cost function\n",
    "<li> Returns a scalar value that tells us how accurate the model is. Represented by the formula:<p>\n",
    "<i>J(theta) = (1/2m) * sum(h_theta(x^(i)) - y^(i))^2</i>"
   ]
  },
  {
   "cell_type": "code",
   "execution_count": 10,
   "metadata": {},
   "outputs": [],
   "source": [
    "# using the formula above (as specified in hw3), we define the function:\n",
    "def compute_cost(y_hat, y):\n",
    "    m = len(y)\n",
    "    error = y_hat - y\n",
    "    cost = (1/(2*m)) * (np.sum(np.square(error)))\n",
    "    return cost\n"
   ]
  },
  {
   "cell_type": "markdown",
   "metadata": {},
   "source": [
    "### 5.4 compute_gradient function\n",
    "<li> returns a matrix w that represents the partial derivative of cost function J(theta_0, theta_1) with respect to each parameter theta_j\n",
    "<p><i>(1/m) * sum(h_theta(y_hat^(i)) - y^(i)) * x_j^(i)</i>\n",
    "<li>Note: we have 3 predictors and 1 bias, so w should have 4x1 shape"
   ]
  },
  {
   "cell_type": "code",
   "execution_count": 11,
   "metadata": {},
   "outputs": [],
   "source": [
    "# using the given formula above, we create the compute_gradient function:\n",
    "def compute_gradient(y_hat, y, x):\n",
    "    m = len(y)\n",
    "    error = y_hat - y\n",
    "    gradient = (1/m) * np.dot(error, x)\n",
    "    return gradient\n"
   ]
  },
  {
   "cell_type": "markdown",
   "metadata": {},
   "source": [
    "### 5.5 update_weights function\n",
    "<li>Returns a 4x1 matrix that contains the updated weights<p>\n",
    "<p><i>theta_j := theta_j - alpha * w * x_j^(i)</i><p>\n",
    "<li>where the matrix w contains the gradients for a specific iteration"
   ]
  },
  {
   "cell_type": "code",
   "execution_count": 12,
   "metadata": {},
   "outputs": [],
   "source": [
    "def update_weights(init_w, gradient_w, alpha):\n",
    "    updated_weights = []\n",
    "    for i in range(len(init_w)):\n",
    "        #init_w[i] = theta_j in formula\n",
    "        #w[i] = w in formula\n",
    "        updated_weights.append(init_w[i] - alpha * gradient_w[i])\n",
    "    return updated_weights #returns a 4x1 matrix\n"
   ]
  },
  {
   "cell_type": "markdown",
   "metadata": {},
   "source": [
    "### 5.6 grad_descent function\n",
    "<li>returns 2 matrices: one matrix for weights, one matrix for cost values per iteration\n",
    "<li>grad_descent calls the 5 previous functions"
   ]
  },
  {
   "cell_type": "code",
   "execution_count": 13,
   "metadata": {},
   "outputs": [],
   "source": [
    "# grad_descent function returns 2 matrices: matrix for weights, matrix for cost values per iteration, and matrix for bias values per iteration\n",
    "\n",
    "def grad_descent(init_w, x, y, alpha, iterations):\n",
    "    #input:\n",
    "    #bias = from the Bias column in x\n",
    "    #x = from x_train\n",
    "    #y = from y_train\n",
    "    #alpha = learning rate (also used in update_weights function)\n",
    "    #iterations = number of iterations\n",
    "\n",
    "    #initialize weights using initialize_weights_zeros() function\n",
    "    #can be changed to initialize_weights() function for random weights\n",
    "    init_w = initialize_weights_zeros()\n",
    "    #initialize cost values to empty list\n",
    "    cost = 0\n",
    "    #initialize cost values per iteration\n",
    "    cost_values_per_iteration = []\n",
    "    #initialize weights per iteration\n",
    "    weights = []\n",
    "    #iterate for number of iterations\n",
    "    for i in range(iterations):\n",
    "        #predict y_hat\n",
    "        y_predicted = predict(init_w, x)\n",
    "        #compute cost\n",
    "        cost = compute_cost(y_predicted, y)\n",
    "        #compute gradient\n",
    "        gradient_w = compute_gradient(y_predicted, y, x)\n",
    "        #update weights\n",
    "        init_w = update_weights(init_w, gradient_w, alpha)\n",
    "        #append cost values to cost_values\n",
    "        cost_values_per_iteration.append(cost)\n",
    "        #append weights to weights\n",
    "        weights.append(init_w)\n",
    "    #output: matrices of weights and cost values per iteration\n",
    "    return weights, cost_values_per_iteration\n"
   ]
  },
  {
   "cell_type": "markdown",
   "metadata": {},
   "source": [
    "### CHECKPOINT: Values for alpha and iterations"
   ]
  },
  {
   "cell_type": "code",
   "execution_count": 14,
   "metadata": {},
   "outputs": [],
   "source": [
    "alpha = 0.01\n",
    "iterations = 1000"
   ]
  },
  {
   "cell_type": "markdown",
   "metadata": {},
   "source": [
    "### 5.7 plot_costs\n",
    "<li> plot the costs as a function of iteration"
   ]
  },
  {
   "cell_type": "code",
   "execution_count": 15,
   "metadata": {},
   "outputs": [
    {
     "data": {
      "image/png": "[encoded data removed]",
      "text/plain": [
       "<Figure size 432x288 with 1 Axes>"
      ]
     },
     "metadata": {
      "needs_background": "light"
     },
     "output_type": "display_data"
    }
   ],
   "source": [
    "# plot_costs function plots the cost values per iteration\n",
    "# plot_costs calls: grad_descent\n",
    "\n",
    "def plot_costs(x, y, alpha, iterations):\n",
    "    #input:\n",
    "    #x = from x_train\n",
    "    #y = from y_train\n",
    "    #alpha = learning rate (also used in update_weights function)\n",
    "    #iterations = number of iterations\n",
    "\n",
    "    #get the cost_values_per_iteration by calling grad_descent function, specifying [1] since we only want the cost values\n",
    "    cost_values_per_iteration = grad_descent(init_w, x, y, alpha, iterations)[1]\n",
    "    #plot cost values per iteration\n",
    "    plt.plot(cost_values_per_iteration)\n",
    "    plt.xlabel(\"Iterations\")\n",
    "    plt.ylabel(\"Cost\")\n",
    "    plt.title(\"Cost per Iteration\")\n",
    "    plt.show()\n",
    "\n",
    "# call plot_costs function with the train data as an example\n",
    "plot_costs(x_train, y_train, alpha, iterations)\n"
   ]
  },
  {
   "cell_type": "markdown",
   "metadata": {},
   "source": [
    "### 5.8 predict y for train set and calculate the cost"
   ]
  },
  {
   "cell_type": "code",
   "execution_count": 16,
   "metadata": {},
   "outputs": [
    {
     "name": "stdout",
     "output_type": "stream",
     "text": [
      "Cost for TRAIN set: 0.49583149407395044\n"
     ]
    }
   ],
   "source": [
    "# predict y for train set and calculate the cost\n",
    "# use init_w_zeros from initialize_weights_zeros function\n",
    "predict_y_train = predict(init_w_zeros, x_train)\n",
    "#save predict_y_train as a dataframe\n",
    "predict_y_train = pd.DataFrame(predict_y_train)\n",
    "#set column name to \"Predicted\"\n",
    "predict_y_train.columns = [\"Predicted Y Train\"]\n",
    "\n",
    "#calculate cost for train set\n",
    "y_hat_train = predict(init_w_zeros, x_train)\n",
    "cost_train = compute_cost(y_hat_train, y_train)\n",
    "print(\"Cost for TRAIN set:\", cost_train)"
   ]
  },
  {
   "cell_type": "markdown",
   "metadata": {},
   "source": [
    "### 5.9 predict y for test set and calculate the cost"
   ]
  },
  {
   "cell_type": "code",
   "execution_count": 17,
   "metadata": {},
   "outputs": [
    {
     "name": "stdout",
     "output_type": "stream",
     "text": [
      "Cost for TEST set: 0.5125055177781486\n"
     ]
    }
   ],
   "source": [
    "# predict y for test set and calculate the cost\n",
    "# use init_w_zeros from initialize_weights_zeros function\n",
    "predict_y_test = predict(init_w_zeros, x_test)\n",
    "#save predict_y_train as a dataframe\n",
    "predict_y_test = pd.DataFrame(predict_y_test)\n",
    "#set column name to \"Predicted\"\n",
    "predict_y_test.columns = [\"Predicted Y Test\"]\n",
    "\n",
    "#calculate cost for TEST set\n",
    "y_hat_test = predict(init_w_zeros, x_test)\n",
    "cost_test = compute_cost(y_hat_test, y_test)\n",
    "print(\"Cost for TEST set:\", cost_test)\n"
   ]
  },
  {
   "cell_type": "markdown",
   "metadata": {},
   "source": [
    "## 6. Predict the quantitative response y on the TRAIN set\n",
    "<li>Evaluate performance\n",
    "<li>You can use the MSE cost function defined for the gradient descent"
   ]
  },
  {
   "cell_type": "code",
   "execution_count": 18,
   "metadata": {},
   "outputs": [],
   "source": [
    "# get weights using grad_descent function for TRAIN set only\n",
    "weights_train = grad_descent(init_w_zeros, x_train, y_train, alpha, iterations)[0] #[0] is for weights, [1] is for cost values per iteration\n",
    "\n",
    "# fit the final weights to the train set using predict function\n",
    "y_hat_predicted_train = predict(weights_train[-1], x_train) #weights[-1] is the last set of weights in the weights matrix"
   ]
  },
  {
   "cell_type": "code",
   "execution_count": 19,
   "metadata": {},
   "outputs": [
    {
     "data": {
      "image/png": "[encoded data removed]",
      "text/plain": [
       "<Figure size 432x288 with 1 Axes>"
      ]
     },
     "metadata": {
      "needs_background": "light"
     },
     "output_type": "display_data"
    }
   ],
   "source": [
    "# add predicted y to TRAIN set as a column\n",
    "x_train[\"Predicted Y Train\"] = y_hat_predicted_train\n",
    "\n",
    "# add y_train to TEST set as a column\n",
    "x_train[\"Y Train\"] = y_train\n",
    "\n",
    "#plot predicted y vs actual y for train set with regression line, for y use \"Sales\" column from y_train\n",
    "sns.regplot(x=\"Predicted Y Train\", y=x_train[\"Y Train\"], data=x_train)\n",
    "plt.title(\"Predicted Y Train vs Y Train\")\n",
    "plt.show()\n",
    "\n",
    "# remove \"Y Test\" and \"Predicted Y Test\" columns from x_train\n",
    "x_train = x_train.drop([\"Y Train\", \"Predicted Y Train\"], axis=1)\n"
   ]
  },
  {
   "cell_type": "markdown",
   "metadata": {},
   "source": [
    "#### Evaluate Performance on TRAIN set using MSE and R2"
   ]
  },
  {
   "cell_type": "code",
   "execution_count": 20,
   "metadata": {},
   "outputs": [
    {
     "name": "stdout",
     "output_type": "stream",
     "text": [
      "MSE for TRAIN set: 0.10219042978231936\n",
      "R2 for TRAIN set: 0.8966440779061037\n",
      "OLS for TRAIN set: 0.8966445527601499\n"
     ]
    }
   ],
   "source": [
    "# Evaluate performance using MSE and R2 for TRAIN set\n",
    "# mean_squared_error and r2_score from sklearn \n",
    "MSE_train = mean_squared_error(y_train, y_hat_predicted_train)\n",
    "R2_train = r2_score(y_train, y_hat_predicted_train)\n",
    "\n",
    "print(\"MSE for TRAIN set:\", MSE_train)\n",
    "print(\"R2 for TRAIN set:\", R2_train)\n",
    "\n",
    "# verify R2 using ols from statsmodels\n",
    "ols = LinearRegression()\n",
    "ols.fit(x_train, y_train)\n",
    "print(\"OLS for TRAIN set:\", ols.score(x_train, y_train))\n"
   ]
  },
  {
   "cell_type": "markdown",
   "metadata": {},
   "source": [
    "#### R2 score and OLS score are the same. \n",
    "\n",
    "### The higher the R2 score (closer to 1), the better the model fits the data. On the other hand, the lower the MSE (closer to 0), the better the model fits the data.\n",
    "\n",
    "#### With an MSE of 0.10, this means that the model is 90% accurate in predicting the quantitative response y on the TRAIN set. And with an R2 score of 0.89, this means that the model is 89% accurate in predicting the quantitative response y on the TRAIN set."
   ]
  },
  {
   "cell_type": "markdown",
   "metadata": {},
   "source": [
    "## 7. Predict the quantitative response y on the TEST set\n",
    "<li>Evaluate performance\n",
    "<li>Similarly, you can use the MSE cost function defined for the gradient descent"
   ]
  },
  {
   "cell_type": "code",
   "execution_count": 21,
   "metadata": {},
   "outputs": [],
   "source": [
    "# get weights using grad_descent function for TEST set\n",
    "weights_test = grad_descent(init_w_zeros, x_test, y_test, alpha, iterations)[0] #[0] is for weights, [1] is for cost values per iteration\n",
    "\n",
    "# fit the final weights to the train set using predict function\n",
    "y_hat_predicted_test = predict(weights_test[-1], x_test) #weights[-1] is the last set of weights in the weights matrix\n"
   ]
  },
  {
   "cell_type": "code",
   "execution_count": 22,
   "metadata": {},
   "outputs": [
    {
     "data": {
      "image/png": "[encoded data removed]",
      "text/plain": [
       "<Figure size 432x288 with 1 Axes>"
      ]
     },
     "metadata": {
      "needs_background": "light"
     },
     "output_type": "display_data"
    }
   ],
   "source": [
    "# add predicted y to TEST set as a column\n",
    "x_test[\"Predicted Y Test\"] = y_hat_predicted_test\n",
    "\n",
    "# add y_train to TEST set as a column\n",
    "x_test[\"Y Test\"] = y_test\n",
    "\n",
    "#plot predicted y vs actual y for train set with regression line, for y use \"Sales\" column from y_train\n",
    "sns.regplot(x=\"Predicted Y Test\", y=x_test[\"Y Test\"], data=x_test)\n",
    "plt.title(\"Predicted Y TEST vs Y TEST\")\n",
    "plt.show()\n",
    "\n",
    "# remove \"Y Test\" and \"Predicted Y Test\" columns from x_test\n",
    "x_test = x_test.drop([\"Y Test\", \"Predicted Y Test\"], axis=1)"
   ]
  },
  {
   "cell_type": "markdown",
   "metadata": {},
   "source": [
    "#### Evaluate Performance on TEST set using MSE and R2"
   ]
  },
  {
   "cell_type": "code",
   "execution_count": 23,
   "metadata": {},
   "outputs": [
    {
     "name": "stdout",
     "output_type": "stream",
     "text": [
      "MSE for TEST set: 0.0993975927654539\n",
      "R2 for TEST set: 0.9004586403459471\n",
      "R2 OLS for TEST set: 0.9004587765307268\n"
     ]
    }
   ],
   "source": [
    "# Evaluate performance using MSE and R2 for TEST set\n",
    "# mean_squared_error and r2_score from sklearn \n",
    "MSE_test = mean_squared_error(y_test, y_hat_predicted_test)\n",
    "R2_test = r2_score(y_test, y_hat_predicted_test)\n",
    "\n",
    "print(\"MSE for TEST set:\", MSE_test)\n",
    "print(\"R2 for TEST set:\", R2_test)\n",
    "\n",
    "# verify R2 using ols from statsmodels\n",
    "ols = LinearRegression()\n",
    "ols.fit(x_test, y_test)\n",
    "print(\"R2 OLS for TEST set:\", ols.score(x_test, y_test))\n"
   ]
  },
  {
   "cell_type": "markdown",
   "metadata": {},
   "source": [
    "#### R2 score and OLS R2 score are the same (0.9004). \n",
    "\n",
    "#### The higher the R2 score (closer to 1), the better the model fits the data. On the other hand, the lower the MSE (closer to 0), the better the model fits the data.\n",
    "\n",
    "#### For the TEST set, with an MSE of 0.09, this means that the model is 91% accurate in predicting the quantitative response y on the TEST set. And with an R2 score of 0.90, this means that the model is 90% accurate in predicting the quantitative response y on the TEST set."
   ]
  },
  {
   "cell_type": "markdown",
   "metadata": {},
   "source": [
    "## 8. Reverting data back into original form\n",
    "<li>We simply have to equate the previous equation:\n",
    "<p><i>x_scaled * std(x_j) + mean(x_j) = x_j</i>"
   ]
  },
  {
   "cell_type": "code",
   "execution_count": 24,
   "metadata": {},
   "outputs": [],
   "source": [
    "# compute mean and std of x data columns TV, Radio, Newspaper\n",
    "x_mean = data.iloc[:, 0:3].mean()\n",
    "x_std = data.iloc[:, 0:3].std()\n",
    "\n",
    "# compute mean and std of y data column Sales\n",
    "y_mean = data.iloc[:, 3].mean()\n",
    "y_std = data.iloc[:, 3].std()"
   ]
  },
  {
   "cell_type": "code",
   "execution_count": 25,
   "metadata": {},
   "outputs": [
    {
     "data": {
      "image/png": "[encoded data removed]",
      "text/plain": [
       "<Figure size 432x288 with 1 Axes>"
      ]
     },
     "metadata": {
      "needs_background": "light"
     },
     "output_type": "display_data"
    }
   ],
   "source": [
    "# Revert standardization of TRAIN data\n",
    "\n",
    "# copy x_train and y_train to x_train_revert and y_train_revert\n",
    "x_train_revert = x_train.copy()\n",
    "y_train_revert = y_train.copy()\n",
    "\n",
    "# reverse standardization of train data, for all predictors\n",
    "x_train_revert[\"TV\"] = (x_train_revert[\"TV\"] * x_std[0]) + x_mean[0]\n",
    "x_train_revert[\"Radio\"] = (x_train_revert[\"Radio\"] * x_std[1]) + x_mean[1]\n",
    "x_train_revert[\"Newspaper\"] = (x_train_revert[\"Newspaper\"] * x_std[2]) + x_mean[2]\n",
    "\n",
    "# reverse standardization of train data, for the y/response variable\n",
    "y_train_revert = (y_train_revert * y_std) + y_mean\n",
    "\n",
    "# reverse standardization of y_hat_predicted_train\n",
    "y_hat_predicted_train = (y_hat_predicted_train * y_std) + y_mean\n",
    "\n",
    "# add y_train and y_hat_predicted_train to x_train as columns\n",
    "x_train_revert[\"Y Train\"] = y_train_revert\n",
    "x_train_revert[\"Predicted Y Train\"] = y_hat_predicted_train\n",
    "\n",
    "#plot predicted y vs actual y for train set with regression line\n",
    "sns.regplot(x=\"Predicted Y Train\", y=x_train_revert[\"Y Train\"], data=x_train_revert)\n",
    "plt.title(\"Predicted Y Train vs Y Train\")\n",
    "plt.show()\n"
   ]
  },
  {
   "cell_type": "markdown",
   "metadata": {},
   "source": [
    "##### If you check the plot at #6, you can see that both plots for the standardized and non-standardized data look similar, with the difference being that the non-standardized data has a larger range of values in the y and x axis."
   ]
  },
  {
   "cell_type": "code",
   "execution_count": 26,
   "metadata": {},
   "outputs": [
    {
     "data": {
      "image/png": "[encoded data removed]",
      "text/plain": [
       "<Figure size 432x288 with 1 Axes>"
      ]
     },
     "metadata": {
      "needs_background": "light"
     },
     "output_type": "display_data"
    }
   ],
   "source": [
    "# Revert standardization of TEST data\n",
    "\n",
    "# copy x_test and y_test to x_test_revert and y_test_revert\n",
    "x_test_revert = x_test.copy()\n",
    "y_test_revert = y_test.copy()\n",
    "\n",
    "# reverse standardization of test data, for all predictors\n",
    "x_test_revert[\"TV\"] = (x_test_revert[\"TV\"] * x_std[0]) + x_mean[0]\n",
    "x_test_revert[\"Radio\"] = (x_test_revert[\"Radio\"] * x_std[1]) + x_mean[1]\n",
    "x_test_revert[\"Newspaper\"] = (x_test_revert[\"Newspaper\"] * x_std[2]) + x_mean[2]\n",
    "\n",
    "# reverse standardization of test data, for the y/response variable\n",
    "y_test_revert = (y_test_revert * y_std) + y_mean\n",
    "\n",
    "# reverse standardization of y_hat_predicted_test\n",
    "y_hat_predicted_test = (y_hat_predicted_test * y_std) + y_mean\n",
    "\n",
    "# add y_test and y_hat_predicted_test to x_test as columns\n",
    "x_test_revert[\"Y Test\"] = y_test_revert\n",
    "x_test_revert[\"Predicted Y Test\"] = y_hat_predicted_test\n",
    "\n",
    "#plot predicted y vs actual y for test set with regression line\n",
    "sns.regplot(x=\"Predicted Y Test\", y=x_test_revert[\"Y Test\"], data=x_test_revert)\n",
    "plt.title(\"Predicted Y Test vs Y Test\")\n",
    "plt.show()"
   ]
  },
  {
   "cell_type": "markdown",
   "metadata": {},
   "source": [
    "##### The same goes with this plot, compared to the plot at #7. With the same difference where the non-standardized data has a larger range of values in the y and x axis."
   ]
  },
  {
   "cell_type": "markdown",
   "metadata": {},
   "source": [
    "## 9. Observe the cost results and analyse"
   ]
  },
  {
   "cell_type": "code",
   "execution_count": 27,
   "metadata": {},
   "outputs": [
    {
     "name": "stdout",
     "output_type": "stream",
     "text": [
      "Cost results for TEST set: 96.96163038892153\n"
     ]
    }
   ],
   "source": [
    "# Observe the cost results using compute_cost function for TEST set\n",
    "cost_results_test = compute_cost(y_hat_predicted_test, y_test)\n",
    "print(\"Cost results for TEST set:\", cost_results_test)"
   ]
  },
  {
   "cell_type": "markdown",
   "metadata": {},
   "source": [
    "#### Recall that the compute_cost function returns a scalar value that tells us how accurate the model is.\n",
    "\n",
    "#### A Cost of 1.353 (J_theta = 1.353) means that the cost is relatively high, and that the model is not very accurate in predicting the quantitative response y on the TRAIN set."
   ]
  },
  {
   "cell_type": "code",
   "execution_count": 28,
   "metadata": {},
   "outputs": [
    {
     "name": "stdout",
     "output_type": "stream",
     "text": [
      "Cost results for TRAIN set: 109.48151685831986\n"
     ]
    }
   ],
   "source": [
    "# Observe the cost results using compute_cost function for TRAIN set\n",
    "cost_results_train = compute_cost(y_hat_predicted_train, y_train)\n",
    "print(\"Cost results for TRAIN set:\", cost_results_train)"
   ]
  },
  {
   "cell_type": "markdown",
   "metadata": {},
   "source": [
    "#### The TRAIN set has a Cost of 1.353 (J_theta = 1.353) which means that the cost is relatively high, and that the model is not very accurate in predicting the quantitative response y on the TRAIN set."
   ]
  },
  {
   "cell_type": "markdown",
   "metadata": {},
   "source": [
    "# === END OF CODE SOLUTION ==="
   ]
  },
  {
   "cell_type": "markdown",
   "metadata": {},
   "source": [
    "#### THE FOLLOWING ARE \"SCRATCH\" CODES USED FOR THE HW3 QUESTIONS"
   ]
  },
  {
   "cell_type": "markdown",
   "metadata": {},
   "source": [
    "#### Note: Assume initial weights are 0s"
   ]
  },
  {
   "cell_type": "code",
   "execution_count": 29,
   "metadata": {},
   "outputs": [
    {
     "name": "stdout",
     "output_type": "stream",
     "text": [
      "Initial weights: [0. 0. 0. 0.]\n"
     ]
    }
   ],
   "source": [
    "# call the initial_weights_zero function to get initial weights\n",
    "init_w = initialize_weights_zeros()\n",
    "print(\"Initial weights:\", init_w)"
   ]
  },
  {
   "cell_type": "markdown",
   "metadata": {},
   "source": [
    "##### 1. What are the optimal weights found by your implemented gradient descent? Plug it into the linear model:\n",
    "\n",
    "<p><li>h_theta(x) = theta_0 + theta_1*TV + theta_2*Radio + theta_3*Newspaper<p>\n",
    "\n",
    "##### What are your interpretations regarding the formed linear model?"
   ]
  },
  {
   "cell_type": "markdown",
   "metadata": {},
   "source": [
    "#### 1.1 TRAIN SET"
   ]
  },
  {
   "cell_type": "code",
   "execution_count": 30,
   "metadata": {},
   "outputs": [
    {
     "name": "stdout",
     "output_type": "stream",
     "text": [
      "Final weights for TRAIN set:\n",
      " [-0.0059112722535643635, 0.7476082427363376, 0.5442247902169065, 0.01139398883039353]\n",
      "Final weights for TEST set:\n",
      " [0.023479411524492455, 0.7812565897724794, 0.5050373947335791, -0.039271495434334225]\n",
      "Final weights for ENTIRE set:\n",
      " [-5.527245328096342e-17, 0.7530307236867304, 0.5360686764319861, -0.003908323196123136]\n"
     ]
    }
   ],
   "source": [
    "# For TRAIN Set\n",
    "# call the weights_train variable from #6, and get the final weights\n",
    "print(\"Final weights for TRAIN set:\\n\", weights_train[-1]) #[-1] is the last set of weights\n",
    "\n",
    "# For TEST Set\n",
    "# call the weights_test variable from #7, and get the final weights\n",
    "print(\"Final weights for TEST set:\\n\", weights_test[-1]) #[-1] is the last set of weights\n",
    "\n",
    "# For ENTIRE Set (x and y)\n",
    "weights_all = grad_descent(init_w, x, y, alpha, iterations)[0]\n",
    "print(\"Final weights for ENTIRE set:\\n\", weights_all[-1]) #[-1] is the last set of weights\n",
    "\n",
    "# Note: all values are standardized"
   ]
  },
  {
   "cell_type": "markdown",
   "metadata": {},
   "source": [
    "#### 2. Plot Y and Y predicted (already plotted in #6 and #7)"
   ]
  },
  {
   "cell_type": "markdown",
   "metadata": {},
   "source": [
    "#### 3. What happens to error, r2, and cost as iterations increase\n",
    "#### 4. Changing alpha"
   ]
  },
  {
   "cell_type": "markdown",
   "metadata": {},
   "source": [
    "#### 5. Learning rate vs Iterations"
   ]
  },
  {
   "cell_type": "code",
   "execution_count": 31,
   "metadata": {},
   "outputs": [
    {
     "data": {
      "text/html": [
       "<div>\n",
       "<style scoped>\n",
       "    .dataframe tbody tr th:only-of-type {\n",
       "        vertical-align: middle;\n",
       "    }\n",
       "\n",
       "    .dataframe tbody tr th {\n",
       "        vertical-align: top;\n",
       "    }\n",
       "\n",
       "    .dataframe thead th {\n",
       "        text-align: right;\n",
       "    }\n",
       "</style>\n",
       "<table border=\"1\" class=\"dataframe\">\n",
       "  <thead>\n",
       "    <tr style=\"text-align: right;\">\n",
       "      <th></th>\n",
       "      <th>Cost</th>\n",
       "      <th>MSE/Error</th>\n",
       "      <th>R2</th>\n",
       "    </tr>\n",
       "  </thead>\n",
       "  <tbody>\n",
       "    <tr>\n",
       "      <th>0</th>\n",
       "      <td>0.495831</td>\n",
       "      <td>0.972335</td>\n",
       "      <td>0.016576</td>\n",
       "    </tr>\n",
       "    <tr>\n",
       "      <th>1</th>\n",
       "      <td>0.486167</td>\n",
       "      <td>0.953443</td>\n",
       "      <td>0.035683</td>\n",
       "    </tr>\n",
       "    <tr>\n",
       "      <th>2</th>\n",
       "      <td>0.476722</td>\n",
       "      <td>0.934979</td>\n",
       "      <td>0.054358</td>\n",
       "    </tr>\n",
       "    <tr>\n",
       "      <th>3</th>\n",
       "      <td>0.467489</td>\n",
       "      <td>0.916931</td>\n",
       "      <td>0.072611</td>\n",
       "    </tr>\n",
       "    <tr>\n",
       "      <th>4</th>\n",
       "      <td>0.458466</td>\n",
       "      <td>0.899291</td>\n",
       "      <td>0.090453</td>\n",
       "    </tr>\n",
       "    <tr>\n",
       "      <th>...</th>\n",
       "      <td>...</td>\n",
       "      <td>...</td>\n",
       "      <td>...</td>\n",
       "    </tr>\n",
       "    <tr>\n",
       "      <th>995</th>\n",
       "      <td>0.051095</td>\n",
       "      <td>0.102190</td>\n",
       "      <td>0.896644</td>\n",
       "    </tr>\n",
       "    <tr>\n",
       "      <th>996</th>\n",
       "      <td>0.051095</td>\n",
       "      <td>0.102190</td>\n",
       "      <td>0.896644</td>\n",
       "    </tr>\n",
       "    <tr>\n",
       "      <th>997</th>\n",
       "      <td>0.051095</td>\n",
       "      <td>0.102190</td>\n",
       "      <td>0.896644</td>\n",
       "    </tr>\n",
       "    <tr>\n",
       "      <th>998</th>\n",
       "      <td>0.051095</td>\n",
       "      <td>0.102190</td>\n",
       "      <td>0.896644</td>\n",
       "    </tr>\n",
       "    <tr>\n",
       "      <th>999</th>\n",
       "      <td>0.051095</td>\n",
       "      <td>0.102190</td>\n",
       "      <td>0.896644</td>\n",
       "    </tr>\n",
       "  </tbody>\n",
       "</table>\n",
       "<p>1000 rows × 3 columns</p>\n",
       "</div>"
      ],
      "text/plain": [
       "         Cost  MSE/Error        R2\n",
       "0    0.495831   0.972335  0.016576\n",
       "1    0.486167   0.953443  0.035683\n",
       "2    0.476722   0.934979  0.054358\n",
       "3    0.467489   0.916931  0.072611\n",
       "4    0.458466   0.899291  0.090453\n",
       "..        ...        ...       ...\n",
       "995  0.051095   0.102190  0.896644\n",
       "996  0.051095   0.102190  0.896644\n",
       "997  0.051095   0.102190  0.896644\n",
       "998  0.051095   0.102190  0.896644\n",
       "999  0.051095   0.102190  0.896644\n",
       "\n",
       "[1000 rows x 3 columns]"
      ]
     },
     "execution_count": 31,
     "metadata": {},
     "output_type": "execute_result"
    }
   ],
   "source": [
    "# create a list of MSE\n",
    "mse_list = []\n",
    "\n",
    "# create a list of r2\n",
    "r2_list = []\n",
    "\n",
    "# create a list of cost\n",
    "cost_list = []\n",
    "\n",
    "# compute the cost values for each iteration\n",
    "cost_val = grad_descent(init_w, x_train, y_train, alpha, iterations)[1]\n",
    "\n",
    "# compute MSE for each iteration\n",
    "for i in range(0, len(weights_train)):\n",
    "    y_hat_predicted_train = predict(weights_train[i], x_train)\n",
    "    mse_list.append(mean_squared_error(y_train, y_hat_predicted_train))\n",
    "\n",
    "# compute R2 for each iteration\n",
    "for i in range(0, len(weights_train)):\n",
    "    y_hat_predicted_train = predict(weights_train[i], x_train)\n",
    "    r2_list.append(r2_score(y_train, y_hat_predicted_train))\n",
    "\n",
    "# create a dataframe for cost, mse, and r2\n",
    "iteration_df = pd.DataFrame({\"Cost\": cost_val, \"MSE/Error\": mse_list, \"R2\": r2_list})\n",
    "iteration_df\n"
   ]
  },
  {
   "cell_type": "code",
   "execution_count": 32,
   "metadata": {},
   "outputs": [
    {
     "name": "stdout",
     "output_type": "stream",
     "text": [
      "Total iterations: 1000\n",
      "Cost plateau: 0.0511\n",
      "alpha = 0.01, optimal number of iterations: 547\n"
     ]
    }
   ],
   "source": [
    "# approximate for the optimal number of iterations given alpha = 0.01\n",
    "for i in range(iterations):\n",
    "    # round the Cost to 4 decimal places\n",
    "    # iteration_df[\"Cost\"],4).min() is the minimum Cost rounded to 4 decimal places,\n",
    "    # this is where the elbow is, and when the Cost value reduction plateaus\n",
    "    if round(iteration_df[\"Cost\"][i],4) == round(iteration_df[\"Cost\"],4).min():\n",
    "        print(\"Total iterations:\", iterations)\n",
    "        # print(\"Optimal number of iterations for alpha = 0.01:\", i)\n",
    "        optimal_iterations = i\n",
    "        print(\"Cost plateau:\", round(iteration_df[\"Cost\"][i],4))\n",
    "        break\n",
    "\n",
    "print(\"alpha = 0.01, optimal number of iterations:\", optimal_iterations)"
   ]
  },
  {
   "cell_type": "code",
   "execution_count": 33,
   "metadata": {},
   "outputs": [
    {
     "data": {
      "text/html": [
       "<div>\n",
       "<style scoped>\n",
       "    .dataframe tbody tr th:only-of-type {\n",
       "        vertical-align: middle;\n",
       "    }\n",
       "\n",
       "    .dataframe tbody tr th {\n",
       "        vertical-align: top;\n",
       "    }\n",
       "\n",
       "    .dataframe thead th {\n",
       "        text-align: right;\n",
       "    }\n",
       "</style>\n",
       "<table border=\"1\" class=\"dataframe\">\n",
       "  <thead>\n",
       "    <tr style=\"text-align: right;\">\n",
       "      <th></th>\n",
       "      <th>alpha = 0.1</th>\n",
       "      <th>alpha = 0.01</th>\n",
       "      <th>alpha = 0.001</th>\n",
       "      <th>alpha = 0.0001</th>\n",
       "      <th>alpha = 0.2</th>\n",
       "    </tr>\n",
       "  </thead>\n",
       "  <tbody>\n",
       "    <tr>\n",
       "      <th>0</th>\n",
       "      <td>0.495831</td>\n",
       "      <td>0.495831</td>\n",
       "      <td>0.495831</td>\n",
       "      <td>0.495831</td>\n",
       "      <td>0.495831</td>\n",
       "    </tr>\n",
       "    <tr>\n",
       "      <th>1</th>\n",
       "      <td>0.404165</td>\n",
       "      <td>0.486167</td>\n",
       "      <td>0.494860</td>\n",
       "      <td>0.495734</td>\n",
       "      <td>0.323553</td>\n",
       "    </tr>\n",
       "    <tr>\n",
       "      <th>2</th>\n",
       "      <td>0.332089</td>\n",
       "      <td>0.476722</td>\n",
       "      <td>0.493891</td>\n",
       "      <td>0.495637</td>\n",
       "      <td>0.220191</td>\n",
       "    </tr>\n",
       "    <tr>\n",
       "      <th>3</th>\n",
       "      <td>0.275293</td>\n",
       "      <td>0.467489</td>\n",
       "      <td>0.492924</td>\n",
       "      <td>0.495540</td>\n",
       "      <td>0.157447</td>\n",
       "    </tr>\n",
       "    <tr>\n",
       "      <th>4</th>\n",
       "      <td>0.230438</td>\n",
       "      <td>0.458466</td>\n",
       "      <td>0.491959</td>\n",
       "      <td>0.495443</td>\n",
       "      <td>0.118895</td>\n",
       "    </tr>\n",
       "    <tr>\n",
       "      <th>...</th>\n",
       "      <td>...</td>\n",
       "      <td>...</td>\n",
       "      <td>...</td>\n",
       "      <td>...</td>\n",
       "      <td>...</td>\n",
       "    </tr>\n",
       "    <tr>\n",
       "      <th>542</th>\n",
       "      <td>0.051095</td>\n",
       "      <td>0.051153</td>\n",
       "      <td>0.191151</td>\n",
       "      <td>0.446264</td>\n",
       "      <td>0.051095</td>\n",
       "    </tr>\n",
       "    <tr>\n",
       "      <th>543</th>\n",
       "      <td>0.051095</td>\n",
       "      <td>0.051152</td>\n",
       "      <td>0.190861</td>\n",
       "      <td>0.446178</td>\n",
       "      <td>0.051095</td>\n",
       "    </tr>\n",
       "    <tr>\n",
       "      <th>544</th>\n",
       "      <td>0.051095</td>\n",
       "      <td>0.051152</td>\n",
       "      <td>0.190571</td>\n",
       "      <td>0.446092</td>\n",
       "      <td>0.051095</td>\n",
       "    </tr>\n",
       "    <tr>\n",
       "      <th>545</th>\n",
       "      <td>0.051095</td>\n",
       "      <td>0.051151</td>\n",
       "      <td>0.190282</td>\n",
       "      <td>0.446006</td>\n",
       "      <td>0.051095</td>\n",
       "    </tr>\n",
       "    <tr>\n",
       "      <th>546</th>\n",
       "      <td>0.051095</td>\n",
       "      <td>0.051150</td>\n",
       "      <td>0.189994</td>\n",
       "      <td>0.445920</td>\n",
       "      <td>0.051095</td>\n",
       "    </tr>\n",
       "  </tbody>\n",
       "</table>\n",
       "<p>547 rows × 5 columns</p>\n",
       "</div>"
      ],
      "text/plain": [
       "     alpha = 0.1  alpha = 0.01  alpha = 0.001  alpha = 0.0001  alpha = 0.2\n",
       "0       0.495831      0.495831       0.495831        0.495831     0.495831\n",
       "1       0.404165      0.486167       0.494860        0.495734     0.323553\n",
       "2       0.332089      0.476722       0.493891        0.495637     0.220191\n",
       "3       0.275293      0.467489       0.492924        0.495540     0.157447\n",
       "4       0.230438      0.458466       0.491959        0.495443     0.118895\n",
       "..           ...           ...            ...             ...          ...\n",
       "542     0.051095      0.051153       0.191151        0.446264     0.051095\n",
       "543     0.051095      0.051152       0.190861        0.446178     0.051095\n",
       "544     0.051095      0.051152       0.190571        0.446092     0.051095\n",
       "545     0.051095      0.051151       0.190282        0.446006     0.051095\n",
       "546     0.051095      0.051150       0.189994        0.445920     0.051095\n",
       "\n",
       "[547 rows x 5 columns]"
      ]
     },
     "execution_count": 33,
     "metadata": {},
     "output_type": "execute_result"
    }
   ],
   "source": [
    "# visualize the cost values per iteration vs the optimal number of iterations, at different alpha values\n",
    "# use the following alpha: 0.1, 0.01, 0.001, 0.0001, 0.2\n",
    "\n",
    "# create a list of alpha values\n",
    "alpha_list = [0.1, 0.01, 0.001, 0.0001, 0.2]\n",
    "\n",
    "\n",
    "# create a list of cost values for each alpha\n",
    "cost_list_per_alpha = []\n",
    "for i in range(len(alpha_list)):\n",
    "    cost_list_per_alpha.append(grad_descent(init_w, x_train, y_train, alpha_list[i], optimal_iterations)[1])\n",
    "\n",
    "# save each cost list for each alpha value as a column in a new dataframe\n",
    "per_alpha_df = pd.DataFrame({\"alpha = 0.1\": cost_list_per_alpha[0], \"alpha = 0.01\": cost_list_per_alpha[1], \"alpha = 0.001\": cost_list_per_alpha[2], \"alpha = 0.0001\": cost_list_per_alpha[3], \"alpha = 0.2\": cost_list_per_alpha[4]})\n",
    "\n",
    "per_alpha_df"
   ]
  },
  {
   "cell_type": "code",
   "execution_count": 34,
   "metadata": {},
   "outputs": [
    {
     "data": {
      "image/png": "[encoded data removed]",
      "text/plain": [
       "<Figure size 432x288 with 1 Axes>"
      ]
     },
     "metadata": {
      "needs_background": "light"
     },
     "output_type": "display_data"
    }
   ],
   "source": [
    "# plot all the cost values per iteration for each alpha value in a single plot\n",
    "\n",
    "for i in range(len(alpha_list)):\n",
    "    plt.plot(per_alpha_df.iloc[:,i], label = \"alpha = \" + str(alpha_list[i]))\n",
    "\n",
    "plt.title(\"Cost values per iteration for different alpha values\")\n",
    "plt.xlabel(\"Iterations\")\n",
    "plt.ylabel(\"Cost\")\n",
    "plt.legend()\n",
    "plt.show()"
   ]
  },
  {
   "cell_type": "markdown",
   "metadata": {},
   "source": [
    "#### 6. Compare results with OLS"
   ]
  },
  {
   "cell_type": "markdown",
   "metadata": {},
   "source": [
    "##### Answered in #6 of the code solution"
   ]
  },
  {
   "cell_type": "markdown",
   "metadata": {},
   "source": [
    "#### === END OF QUESTIONS \"SCRATCH\" CODES ==="
   ]
  }
 ],
 "metadata": {
  "kernelspec": {
   "display_name": "Python 3.9.12 ('base')",
   "language": "python",
   "name": "python3"
  },
  "language_info": {
   "codemirror_mode": {
    "name": "ipython",
    "version": 3
   },
   "file_extension": ".py",
   "mimetype": "text/x-python",
   "name": "python",
   "nbconvert_exporter": "python",
   "pygments_lexer": "ipython3",
   "version": "3.9.12"
  },
  "vscode": {
   "interpreter": {
    "hash": "33d43bea7cd91d4afa26550a6bcb372a2714813a69e570ee7913349a5030113e"
   }
  }
 },
 "nbformat": 4,
 "nbformat_minor": 2
}
