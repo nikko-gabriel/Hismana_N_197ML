{
 "cells": [
  {
   "attachments": {},
   "cell_type": "markdown",
   "metadata": {},
   "source": [
    "## CMSC 197 (Machine Learning)\n",
    "<p>\"Assignment 4 - Naive Bayes Spam Filter\"</p>\n",
    "<p>by Hismaña, Nikko Gabriel (2009-48594)</p>"
   ]
  },
  {
   "attachments": {},
   "cell_type": "markdown",
   "metadata": {},
   "source": [
    "### 0. FILES and SET SPLITTING"
   ]
  },
  {
   "attachments": {},
   "cell_type": "markdown",
   "metadata": {},
   "source": [
    "Files included/used for this notebook:\n",
    "<li>stop_words.txt - list of stop words\n",
    "<li>trec06c-cs280 - dataset containing emails as Files\n",
    "directory: trec06c-cs280/data/000~126 <p>\n",
    "\n",
    "<p>Training Set: All files from 000 to 070\n",
    "<p>Test Set: All files from 071 to 126"
   ]
  },
  {
   "attachments": {},
   "cell_type": "markdown",
   "metadata": {},
   "source": [
    "### I. PREPROCESSING (10pts)"
   ]
  },
  {
   "attachments": {},
   "cell_type": "markdown",
   "metadata": {},
   "source": [
    "#### I.A. Importing the necessary libraries"
   ]
  },
  {
   "cell_type": "code",
   "execution_count": 1,
   "metadata": {},
   "outputs": [],
   "source": [
    "### standard libraries (allowed as per instructions)\n",
    "import numpy as np\n",
    "import pandas as pd\n",
    "import matplotlib.pyplot as plt\n",
    "import seaborn as sns\n",
    "%matplotlib inline\n",
    "\n",
    "### SKLearn libraries (allowed as per instructions)\n",
    "# only to be used for:\n",
    "# -Preprocessing\n",
    "# -Model Evaluationg\n",
    "# -Comparison (of Naive Bayes from Scratch) with Naive Bayes of SKLEARN\n",
    "from sklearn.model_selection import train_test_split # for splitting data\n",
    "from sklearn.metrics import confusion_matrix # for evaluation\n",
    "from sklearn.metrics import accuracy_score, precision_score, recall_score, f1_score # for evaluation\n",
    "from sklearn.naive_bayes import GaussianNB # for comparison with Naive Bayes from Scratch"
   ]
  },
  {
   "attachments": {},
   "cell_type": "markdown",
   "metadata": {},
   "source": [
    "#### I.B. Importing the dataset and stop words"
   ]
  },
  {
   "cell_type": "code",
   "execution_count": 39,
   "metadata": {},
   "outputs": [],
   "source": [
    "# Import the dataset\n",
    "# dataset is composed of files in \"trec06p-cs280\\data\" folder, divided into subfolders 000 to 126, total emails: 37,822\n",
    "\n",
    "import os\n",
    "\n",
    "# path to the dataset\n",
    "data_path = \"trec06p-cs280\\data\\\\\"\n",
    "labels_path = \"trec06p-cs280\\labels\"\n",
    "\n",
    "# put labels into a numpy array\n",
    "# remember that labels is just a single file with the format ham ../data/000/000 or spam ../data/000/001\n",
    "# numpy array should be in order of folder number and file number: labels[0] = 000/000, labels[1] = 000/001, ..., labels[37821] = 126/021\n",
    "# labels should have format ([(ham/spam, 000/000), (ham/spam, 000/001), ..., (ham/spam, 126/021)]), should not include \"../data/\":\n",
    "# labels[0] = (ham/spam, 000/000), labels[1] = (ham/spam, 000/001), ..., labels[37821] = (ham/spam, 126/021)\n",
    "# remove \"../data/\" from the path\n",
    "labels = []\n",
    "with open(labels_path, 'r') as f:\n",
    "    # format should be labels[i] = (ham/spam, 000/000)\n",
    "    for line in f:\n",
    "        line = line.strip()\n",
    "        # split line into ham/spam and 000/000\n",
    "        line = line.split(\" \")\n",
    "        # remove \"../data/\" from the path\n",
    "        line[1] = line[1][8:]\n",
    "        # append to labels\n",
    "        labels.append(tuple(line))\n",
    "        \n",
    "# path to stop_words.txt in same folder as this notebook\n",
    "stop_words_path = \"stop_words.txt\"\n",
    "\n",
    "# create list of stop words from stop_words.txt\n",
    "stop_words = []\n",
    "with open(stop_words_path, 'r') as f:\n",
    "    for line in f:\n",
    "        stop_words.append(line.strip())\n",
    "\n",
    "# create a copy of original stop_words list\n",
    "stop_words_orig = stop_words.copy()\n"
   ]
  },
  {
   "cell_type": "code",
   "execution_count": 3,
   "metadata": {},
   "outputs": [
    {
     "name": "stdout",
     "output_type": "stream",
     "text": [
      "['a', 'able', 'about', 'above', 'abst']\n",
      "[('ham', '000/000'), ('spam', '000/001'), ('spam', '000/002'), ('ham', '000/003'), ('spam', '000/004')]\n"
     ]
    }
   ],
   "source": [
    "# check first 10 stop words\n",
    "print(stop_words[:5])\n",
    "\n",
    "# print labels and their locations\n",
    "print(labels[:5])"
   ]
  },
  {
   "attachments": {},
   "cell_type": "markdown",
   "metadata": {},
   "source": [
    "#### I.C. Preprocessing the dataset"
   ]
  },
  {
   "cell_type": "code",
   "execution_count": 4,
   "metadata": {},
   "outputs": [],
   "source": [
    "# Create numpy array of all emails \n",
    "# #(choosing to use numpy array instead of pandas dataframe since it is more efficient in terms of memory)\n",
    "# format: emails[i] = (email_location ('folder\\file'), email_label (spam or ham), email_text (body of email))\n",
    "emails = np.empty((37822, 3), dtype=object)\n",
    "for i in range(37822):\n",
    "    # get email location\n",
    "    email_locName = labels[i][1]\n",
    "    # get email label\n",
    "    email_label = labels[i][0]\n",
    "    # get email text\n",
    "    email_text = \"\"\n",
    "    with open(data_path + email_locName, 'r', encoding='latin-1') as f:\n",
    "        for line in f:\n",
    "            email_text += line\n",
    "    # append to emails\n",
    "    emails[i] = (email_locName, email_label, email_text)"
   ]
  },
  {
   "cell_type": "code",
   "execution_count": 5,
   "metadata": {},
   "outputs": [
    {
     "name": "stdout",
     "output_type": "stream",
     "text": [
      "000/000 ham \n",
      " Received: from rodan.UU.NET by aramis.rutgers.edu (5.59/SMI4.0/RU1.4/3.08) \n",
      "\tid AA23563; Mon, 27 Jul\n",
      "000/001 spam \n",
      " Received: from unknown (HELO groucho.cs.psu.edu) ([222.135.252.194]) by groucho.cs.psu.edu\n",
      "\twith SMT\n",
      "000/002 spam \n",
      " Received:\n",
      "\tfrom 24-151-178-89.dhcp.kgpt.tn.charter.com (HELO webmail.inet7.com.mail5.psmtp.com) ([24\n",
      "126/019 spam \n",
      " Received: from wonder.hananet.net (unknown [219.255.79.54])\n",
      "\tby kukui.ifa.hawaii.edu (8.11.7p2+Sun/8\n",
      "126/020 spam \n",
      " Received: from mail.csonline.com (unknown [61.133.225.142])\n",
      "\tby kukui.ifa.hawaii.edu (8.11.7p2+Sun/8\n",
      "126/021 spam \n",
      " Received: from 3F9CFCB8 (201-43-166-100.dsl.telesp.net.br [201.43.166.100])\n",
      "\tby kukui.ifa.hawaii.edu\n"
     ]
    }
   ],
   "source": [
    "# DOUBLE CHECK numpy array of emails (check order, labels, and text)):\n",
    "# print first 3 emails, with only 100 characters of text\n",
    "for i in range(3):\n",
    "    print(emails[i][0], emails[i][1], \"\\n\", emails[i][2][:100])\n",
    "# print last 3 emails, with only 100 characters of text\n",
    "for i in range(37822-3, 37822):\n",
    "    print(emails[i][0], emails[i][1], \"\\n\", emails[i][2][:100])\n"
   ]
  },
  {
   "attachments": {},
   "cell_type": "markdown",
   "metadata": {},
   "source": [
    "#### I.D. Cleaning up email text"
   ]
  },
  {
   "cell_type": "code",
   "execution_count": 6,
   "metadata": {},
   "outputs": [],
   "source": [
    "# function to remove stop words, websites, emails, numbers, and other non-words\n",
    "\n",
    "# import regex and email libraries\n",
    "import re\n",
    "import email\n",
    "\n",
    "def clean(emails, stop_words):\n",
    "    # use email.message_from_string to parse email text\n",
    "    # use email.get_payload to get body of email\n",
    "    for i in range(len(emails)):\n",
    "        # lower case all text and save as email_text\n",
    "        # recall that email text is emails[i][2]\n",
    "        emails[i][2] = emails[i][2].lower()\n",
    "        # get email text\n",
    "        email_text = emails[i][2] \n",
    "        # parse email text\n",
    "        email_text = email.message_from_string(email_text)\n",
    "        # get body of email (check for multipart emails) and decode\n",
    "        # first get payload of email and decode\n",
    "        # payload is the body of the email\n",
    "        email_payload = email_text.get_payload(decode=True)\n",
    "        if email_text.is_multipart():\n",
    "            # iterate through email parts using walk()\n",
    "            for part in email_text.walk():\n",
    "                # extract content type of email\n",
    "                content_type = part.get_content_type()\n",
    "                # get content type of email using Content-Disposition\n",
    "                cdispo = str(part.get('Content-Disposition'))\n",
    "                # skip any text/plain (txt) attachments\n",
    "                if content_type == 'text/plain' and 'attachment' not in cdispo:\n",
    "                    email_text = part.get_payload()\n",
    "                    break\n",
    "        else:\n",
    "            email_text = email_text.get_payload()\n",
    "            if type(email_text) == bytes: # check if email_text is bytes\n",
    "                email_text = email_text.decode('utf-8')\n",
    "        # remove unnecessary characters and words\n",
    "        # NOTE: there were additional removals apart from stop words, alphanumeric characters, and numbers\n",
    "        # BUGFIX: avoid 'expected string or bytes-like object' error by checking if email_text is a string:\n",
    "        # convert to string if not already:\n",
    "        if type(email_text) == str:\n",
    "            # remove all website links\n",
    "            email_text = re.sub(r'http\\S+', '', email_text)\n",
    "            email_text = re.sub(r'www\\S+', '', email_text)\n",
    "            email_text = re.sub(r'bit.ly\\S+', '', email_text)\n",
    "            email_text = re.sub(r'bitly\\S+', '', email_text)\n",
    "            email_text = re.sub(r'goo.gl\\S+', '', email_text)\n",
    "            email_text = re.sub(r'goo\\S+', '', email_text)\n",
    "            # remove email addresses\n",
    "            email_text = re.sub(r'\\S+@\\S+', '', email_text)\n",
    "            # remove STOP WORDS\n",
    "            email_text = email_text.split()\n",
    "            email_text = [word for word in email_text if word not in stop_words]\n",
    "            email_text = \" \".join(email_text)\n",
    "            # remove numbers using regex\n",
    "            email_text = re.sub(r'\\d+', '', email_text)\n",
    "            # remove special characters and alphanumeric characters using regex\n",
    "            email_text = re.sub(r'[^a-zA-Z\\n ]', \"\", email_text)\n",
    "            # remove any integers/numbers\n",
    "            email_text = re.sub(r'\\d+', '', email_text)\n",
    "            # remove new line characters\n",
    "            email_text = email_text.replace(\"\\n\", \" \")\n",
    "            # remove extra spaces\n",
    "            email_text = re.sub(' +', ' ', email_text)\n",
    "            # remove html tags (anything between < and >)\n",
    "            email_text = re.sub(r'<[^>]+>', '', email_text)\n",
    "            email_text = re.sub(r'</[^>]+>', '', email_text)\n",
    "            # remove html formatting characters\n",
    "            email_text = re.sub(r'&\\S+;', '', email_text)\n",
    "            # remove email formatting characters\n",
    "            email_text = re.sub(r'[\\w\\.-]+@[\\w\\.-]+', '', email_text)\n",
    "            # BUGFIX: remove stop words again (some stop words may have been added back in after removing punctuations)\n",
    "            email_text = email_text.split()\n",
    "            email_text = [word for word in email_text if word not in stop_words]\n",
    "            email_text = \" \".join(email_text)\n",
    "        # save cleaned email text\n",
    "        emails[i][2] = email_text\n",
    "    return emails"
   ]
  },
  {
   "cell_type": "code",
   "execution_count": 7,
   "metadata": {},
   "outputs": [],
   "source": [
    "# TEST clean function\n",
    "# make copy of emails\n",
    "emails_clean = []\n",
    "emails_clean = emails.copy()\n",
    "\n",
    "# call function to clean emails\n",
    "emails_clean = clean(emails_clean, stop_words)"
   ]
  },
  {
   "cell_type": "code",
   "execution_count": 8,
   "metadata": {},
   "outputs": [
    {
     "name": "stdout",
     "output_type": "stream",
     "text": [
      "[['000/000' 'ham'\n",
      "  'mailing list queried weeks ago running set archive server official list message moment joe buehler mailing list people desire serious orthodox discussion roman catholic religion assume will cater catholics provided operate guidelines interests doctrinal bent going limit list sort discussion participated usenet religion groups years primary observations catholics net religion well hope list help remedy problem extent net resource catholics religion moderation policy catholic church democracy monarchy subject divinely constitution set rules church parish priest bishop pope adhere christ set things appropriate call catholic argue affairs catholic simple follow teaching church moderation policy will reflect thinking plenty places net catholic doctrine freely attacked doubt subscribe list taste mailing list things interest set archive server interesting things moment unix software endeavors guys copyrighted planning setting quotation server email periodic interesting citations principal sources catholic doctrine permission english language publishers italian catholic magazine days material magazine intend scan interesting pictures cristero st pius archives post extracts interesting articles european magazine generally higher quality american catholic material opinion questions subscribe send email']\n",
      " ['000/001' 'spam'\n",
      "  'luxury watches buy rolex rolex cartier bvlgari frank muller patek philippe vacheron constantin lange sohne audemars piguet jaegerlecoultre iwc officine panerai breitling omega tag heuer exapmle rolex full gold daytona men fast delivery lowest prices worldwide shipping visit shop']\n",
      " ['000/002' 'spam'\n",
      "  'academic qualifications prestigious nonacc redited uni versities knowledge experience lack qualifications turned time time job dreams letters prestige deserve today move ahead career today call bac helors mas ters ph ds field examinations classes textbooks call register receive qual ifications days hours day days week confidentiality assured']]\n",
      "[['126/019' 'spam'\n",
      "  'suffering pain depression heartburn help verified collected licensed online store great choice wonderful meds longawaited relief operative support fast shipping secure processing complete confidentiality store verified bbb approved visa']\n",
      " ['126/020' 'spam'\n",
      "  'prosperous future increased money earning power respect assist diplomas prestigious nonaccredited universities based knowledge life experience required tests classes books interviews call bachelors masters mba doctorate phd diplomas field choice doctor receive benefits admiration call turned confidentiality assured call hours day days week contact receive diploma days start improving life']\n",
      " ['126/021' 'spam' 'moat coverall cytochemistry planeload salk']]\n",
      "(37822, 3)\n"
     ]
    }
   ],
   "source": [
    "# PRINT results of clean function\n",
    "# print first 3 emails with cleaned text\n",
    "print(emails_clean[:3])\n",
    "# print last 3 emails with cleaned text\n",
    "print(emails_clean[-3:])\n",
    "# print the size of the emails_clean numpy array\n",
    "print(emails_clean.shape)"
   ]
  },
  {
   "attachments": {},
   "cell_type": "markdown",
   "metadata": {},
   "source": [
    "#### I.E. Extract list of unique words"
   ]
  },
  {
   "cell_type": "code",
   "execution_count": 9,
   "metadata": {},
   "outputs": [],
   "source": [
    "# extract unique words from emails\n",
    "# function that creates dictionary of unique words and their counts\n",
    "\n",
    "def count_unique_words(emails):\n",
    "    unique_words = {}\n",
    "    for i in range(len(emails_clean)):\n",
    "        # get email text\n",
    "        email_text = emails_clean[i][2]\n",
    "        # avoid \"Message\" object has no attribute \"split\" error\n",
    "        # by checking if email_text is a string\n",
    "        if type(email_text) == str:\n",
    "            email_text = email_text.split()\n",
    "            # iterate through words in email text\n",
    "            for word in email_text:\n",
    "                # if word is not in unique_words, add it\n",
    "                if word not in unique_words:\n",
    "                    unique_words[word] = 1\n",
    "                # if word is in unique_words, increment count\n",
    "                else:\n",
    "                    unique_words[word] += 1\n",
    "    # get only the top 10,000 highest frequency words\n",
    "    unique_words = dict(sorted(unique_words.items(), key=lambda item: item[1], reverse=True)[:10000]) # use reverse=True to sort in descending order\n",
    "    return unique_words"
   ]
  },
  {
   "cell_type": "code",
   "execution_count": 10,
   "metadata": {},
   "outputs": [
    {
     "name": "stdout",
     "output_type": "stream",
     "text": [
      "bb 32899\n",
      "td 26834\n",
      "will 24933\n",
      "tr 20487\n",
      "br 16903\n",
      "...\n",
      "aggregate 44\n",
      "terminated 44\n",
      "lifestyle 44\n",
      "breath 44\n",
      "mentioning 44\n"
     ]
    }
   ],
   "source": [
    "# TEST count_unique_words function\n",
    "unique_words = count_unique_words(emails_clean)\n",
    "\n",
    "n = 5 #change this to print more or less words\n",
    "# print first n words and their counts, per line:\n",
    "for word, count in list(unique_words.items())[:n]:\n",
    "    print(word, count)\n",
    "print(\"...\")\n",
    "# print last n words and their counts, per line:\n",
    "for word, count in list(unique_words.items())[-n:]:\n",
    "    print(word, count)"
   ]
  },
  {
   "attachments": {},
   "cell_type": "markdown",
   "metadata": {},
   "source": [
    "#### I.E. Splitting the dataset into training and test sets"
   ]
  },
  {
   "cell_type": "code",
   "execution_count": 11,
   "metadata": {},
   "outputs": [],
   "source": [
    "# Split into Three groups:\n",
    "# -training set for ham\n",
    "# -training set for spam\n",
    "# -test set\n",
    "# training set: folders 001 to 070 (total emails: 21,300)\n",
    "# test set: folders 071 to 126 (total emails: 16,522)\n",
    "\n",
    "# function to split emails_clean into training and test sets\n",
    "def split_train_test(emails_clean):\n",
    "    train_test_split = np.split(emails_clean, [21300]) # split at index 21300\n",
    "    train_set = train_test_split[0]\n",
    "    test_set = train_test_split[1]\n",
    "    return train_set, test_set"
   ]
  },
  {
   "cell_type": "code",
   "execution_count": 12,
   "metadata": {},
   "outputs": [
    {
     "name": "stdout",
     "output_type": "stream",
     "text": [
      "Shape of Training Set:  (21300, 3)\n",
      "Shape of Test Set:  (16522, 3)\n",
      "Last email in training set:\n",
      " ['070/299' 'spam'\n",
      " 'suffering pain depression heartburn help verified collected licensed online store great choice wonderful meds longawaited relief operative support fast shipping secure processing complete confidentiality store verified bbb approved visa']\n",
      "\n",
      "First email in test set:\n",
      " ['071/000' 'spam'\n",
      " 'hesitantly derive perverse satisfaction clodhopperhe called monica monicanow midwife mourn paycheck warranty']\n"
     ]
    }
   ],
   "source": [
    "# TEST split_train_test function\n",
    "train_set, test_set = split_train_test(emails_clean)\n",
    "\n",
    "# PRINT results of split_train_test function\n",
    "print(\"Shape of Training Set: \", train_set.shape)\n",
    "print(\"Shape of Test Set: \", test_set.shape)\n",
    "\n",
    "# check the document at index 21300 (end of training set)\n",
    "# this should be 070/299\n",
    "print(\"Last email in training set:\\n\", train_set[-1])\n",
    "# check the document at index 21301 (start of test set)\n",
    "# this should be 071/000\n",
    "print(\"\\nFirst email in test set:\\n\",test_set[0])"
   ]
  },
  {
   "attachments": {},
   "cell_type": "markdown",
   "metadata": {},
   "source": [
    "### ======================"
   ]
  },
  {
   "attachments": {},
   "cell_type": "markdown",
   "metadata": {},
   "source": [
    "### II. CREATING THE FEATURE MATRICES (5pts)"
   ]
  },
  {
   "cell_type": "code",
   "execution_count": 13,
   "metadata": {},
   "outputs": [],
   "source": [
    "# create feature matrix for spam and ham training sets numpy arrays\n",
    "# remember that 0 or 1 indicates whether a word is present in an email, and then this is repeated for all emails and summed up for each word \n",
    "def create_feature_matrix(emails, unique_words):\n",
    "    feature_matrix = np.zeros((len(emails), len(unique_words)))\n",
    "\n",
    "    for i in range(len(emails)):\n",
    "        # get email text\n",
    "        email_text = emails[i]\n",
    "        # avoid \"Message\" object has no attribute \"split\" error\n",
    "        # by checking if email_text is a string\n",
    "        if type(email_text) == str:\n",
    "            email_text = email_text.split()\n",
    "            # iterate through words in email text and check if word is in unique_words\n",
    "            for word in email_text:\n",
    "                # if the word is not in unique_words, move to next word\n",
    "                if word not in unique_words:\n",
    "                    continue\n",
    "                if word in unique_words:\n",
    "                    # get index of word in unique_words\n",
    "                    word_index = list(unique_words.keys()).index(word)\n",
    "                    # count word only once per email\n",
    "                    feature_matrix[i][word_index] = int(1)\n",
    "                    # once counted, move to next word\n",
    "                    continue\n",
    "    return feature_matrix\n"
   ]
  },
  {
   "attachments": {},
   "cell_type": "markdown",
   "metadata": {},
   "source": [
    "#### II.A Creating the feature matrix for the SPAM training sets"
   ]
  },
  {
   "cell_type": "code",
   "execution_count": 14,
   "metadata": {},
   "outputs": [],
   "source": [
    "# create training set for spam\n",
    "spam_train_set = train_set [train_set[:,1] == 'spam'] # use [:,1] to get the second column which is the label == 'spam'\n",
    "spam_train_set_text = spam_train_set[:,2] # use [:,2] to get the third column which is the text\n",
    "\n",
    "# create feature matrix for spam training set feature matrix\n",
    "spam_train_set_feature_matrix = create_feature_matrix(spam_train_set_text, unique_words)"
   ]
  },
  {
   "cell_type": "code",
   "execution_count": 15,
   "metadata": {},
   "outputs": [
    {
     "name": "stdout",
     "output_type": "stream",
     "text": [
      "Shape of Spam Training Set Feature Matrix:  (13777, 10000)\n",
      "Words in spam training set (Sample):\n",
      "bb 940.0\n",
      "td 692.0\n",
      "will 2200.0\n",
      "tr 726.0\n",
      "br 674.0\n",
      "width 931.0\n",
      "received 298.0\n",
      "email 449.0\n",
      "subject 72.0\n",
      "list 93.0\n"
     ]
    }
   ],
   "source": [
    "# print shape of spam training set feature matrix\n",
    "print(\"Shape of Spam Training Set Feature Matrix: \", spam_train_set_feature_matrix.shape) \n",
    "# print words seen in spam training set:\n",
    "print(\"Words in spam training set (Sample):\")\n",
    "for word, count in list(unique_words.items())[:10]:\n",
    "    if spam_train_set_feature_matrix[:,list(unique_words.keys()).index(word)].sum() > 0:\n",
    "        print(word, spam_train_set_feature_matrix[:,list(unique_words.keys()).index(word)].sum())"
   ]
  },
  {
   "attachments": {},
   "cell_type": "markdown",
   "metadata": {},
   "source": [
    "#### II.A Creating the feature matrix for the HAM training sets"
   ]
  },
  {
   "cell_type": "code",
   "execution_count": 16,
   "metadata": {},
   "outputs": [],
   "source": [
    "# create training set for ham\n",
    "ham_train_set = train_set [train_set[:,1] == 'ham'] # use [:,1] to get the second column which is the label == 'ham'\n",
    "ham_train_set_text = ham_train_set[:,2] # get the third column which is the text\n",
    "\n",
    "# create feature matrix for ham training set feature matrix\n",
    "ham_train_set_feature_matrix = create_feature_matrix(ham_train_set_text, unique_words)"
   ]
  },
  {
   "cell_type": "code",
   "execution_count": 17,
   "metadata": {},
   "outputs": [
    {
     "name": "stdout",
     "output_type": "stream",
     "text": [
      "Shape of HAM Training Set Feature Matrix:  (7523, 10000)\n",
      "Words in HAM training set (Sample):\n",
      "bb 17.0\n",
      "td 13.0\n",
      "will 2304.0\n",
      "tr 11.0\n",
      "br 14.0\n",
      "width 66.0\n",
      "received 347.0\n",
      "email 1446.0\n",
      "subject 887.0\n",
      "list 1006.0\n"
     ]
    }
   ],
   "source": [
    "# print shape of HAM training set feature matrix\n",
    "print(\"Shape of HAM Training Set Feature Matrix: \", ham_train_set_feature_matrix.shape) \n",
    "# print words seen in ham training set:\n",
    "print(\"Words in HAM training set (Sample):\")\n",
    "for word, count in list(unique_words.items())[:10]:\n",
    "    if ham_train_set_feature_matrix[:,list(unique_words.keys()).index(word)].sum() > 0:\n",
    "        print(word, ham_train_set_feature_matrix[:,list(unique_words.keys()).index(word)].sum())\n"
   ]
  },
  {
   "attachments": {},
   "cell_type": "markdown",
   "metadata": {},
   "source": [
    "### ======================"
   ]
  },
  {
   "attachments": {},
   "cell_type": "markdown",
   "metadata": {},
   "source": [
    "### III. COMPUTING THE PRIORS (5pts)"
   ]
  },
  {
   "cell_type": "code",
   "execution_count": 18,
   "metadata": {},
   "outputs": [
    {
     "name": "stdout",
     "output_type": "stream",
     "text": [
      "Number of spam emails:  13777\n",
      "Number of ham emails:  7523\n"
     ]
    }
   ],
   "source": [
    "# Compute the prior probability of spam and ham\n",
    "# P(spam) = number of spam emails / total number of emails\n",
    "# P(ham) = number of ham emails / total number of emails\n",
    "\n",
    "# get number of spam emails\n",
    "spam_train_set_size = spam_train_set.shape[0]\n",
    "# get number of ham emails\n",
    "ham_train_set_size = ham_train_set.shape[0]\n",
    "# get total number of emails\n",
    "total_train_set_size = train_set.shape[0]\n",
    "\n",
    "# print number of spam and ham emails\n",
    "print(\"Number of spam emails: \", spam_train_set_size)\n",
    "print(\"Number of ham emails: \", ham_train_set_size)"
   ]
  },
  {
   "cell_type": "code",
   "execution_count": 19,
   "metadata": {},
   "outputs": [
    {
     "name": "stdout",
     "output_type": "stream",
     "text": [
      "Prior probability of spam\n",
      "P(c=spam)= 0.6468\n",
      "\n",
      "Prior probability of ham\n",
      "P(c=ham)= 0.3532\n"
     ]
    }
   ],
   "source": [
    "# compute prior probability of spam and ham\n",
    "prior_spam = spam_train_set_size / total_train_set_size\n",
    "prior_ham = ham_train_set_size / total_train_set_size\n",
    "\n",
    "# print prior probability of spam and ham (decimal places: 4)\n",
    "print(f\"Prior probability of spam\\nP(c=spam)= {prior_spam:.4f}\")\n",
    "print(f\"\\nPrior probability of ham\\nP(c=ham)= {prior_ham:.4f}\")"
   ]
  },
  {
   "attachments": {},
   "cell_type": "markdown",
   "metadata": {},
   "source": [
    "### ======================"
   ]
  },
  {
   "attachments": {},
   "cell_type": "markdown",
   "metadata": {},
   "source": [
    "### IV. COMPUTING THE LIKELIHOOD OF EACH WORD (15pts + 5pts for Laplace Smoothing)"
   ]
  },
  {
   "cell_type": "code",
   "execution_count": 20,
   "metadata": {},
   "outputs": [
    {
     "name": "stdout",
     "output_type": "stream",
     "text": [
      "Number of words in spam emails:  413022.0\n",
      "Number of words in ham emails:  349314.0\n"
     ]
    }
   ],
   "source": [
    "# compute likelihood of spam and ham with Laplace smoothing\n",
    "# P(word|spam) = (number of times word appears in spam emails + lambda_val) / (number of words in spam emails + (lambda_val * number of unique words))\n",
    "\n",
    "# P(word|ham) = (number of times word appears in ham emails + lambda_val) / (number of words in ham emails + (lambda_val * number of unique words))\n",
    "\n",
    "# using the feature matrix for spam and ham training sets, compute the number of times each word appears in spam and ham emails:\n",
    "# number of times word appears in spam emails = sum of column in spam training set feature matrix\n",
    "# number of times word appears in ham emails = sum of column in ham training set feature matrix\n",
    "\n",
    "# compute number of words in spam emails\n",
    "spam_train_set_words = spam_train_set_feature_matrix.sum()\n",
    "# compute number of words in ham emails\n",
    "ham_train_set_words = ham_train_set_feature_matrix.sum()\n",
    "\n",
    "# print number of words in spam and ham emails\n",
    "print(\"Number of words in spam emails: \", spam_train_set_words)\n",
    "print(\"Number of words in ham emails: \", ham_train_set_words)\n"
   ]
  },
  {
   "cell_type": "code",
   "execution_count": 21,
   "metadata": {},
   "outputs": [],
   "source": [
    "# function to compute likelihood \n",
    "def create_likelihood(lambda_val, set_feature_matrix, set_words, unique_words):\n",
    "    # create dictionary to store likelihood\n",
    "    likelihood = {}\n",
    "    # iterate through unique words\n",
    "    for word, count in unique_words.items():\n",
    "        # get index of word in unique_words\n",
    "        word_index = list(unique_words.keys()).index(word)\n",
    "        # compute likelihood\n",
    "        likelihood[word] = (set_feature_matrix[:,word_index].sum() + lambda_val) / (set_words + (lambda_val * len(unique_words)))\n",
    "    return likelihood"
   ]
  },
  {
   "cell_type": "code",
   "execution_count": 22,
   "metadata": {},
   "outputs": [],
   "source": [
    "# SET lambda val here:\n",
    "lambda_val = 1\n",
    "\n",
    "# TEST create_likelihood function\n",
    "# create likelihood of spam and ham\n",
    "likelihood_spam = create_likelihood(lambda_val, spam_train_set_feature_matrix, spam_train_set_words, unique_words)\n",
    "likelihood_ham = create_likelihood(lambda_val, ham_train_set_feature_matrix, ham_train_set_words, unique_words)"
   ]
  },
  {
   "cell_type": "code",
   "execution_count": 23,
   "metadata": {},
   "outputs": [
    {
     "name": "stdout",
     "output_type": "stream",
     "text": [
      "Likelihood of spam for top 5 unique words:\n",
      "\n",
      "P(bb|spam) = 0.0022244705949099573\n",
      "Number of times 'bb' appears in spam emails: 940.0\n",
      "P(td|spam) = 0.0016382126697902237\n",
      "Number of times 'td' appears in spam emails: 692.0\n",
      "P(will|spam) = 0.005203039085437637\n",
      "Number of times 'will' appears in spam emails: 2200.0\n",
      "P(tr|spam) = 0.001718586740169542\n",
      "Number of times 'tr' appears in spam emails: 726.0\n",
      "P(br|spam) = 0.0015956616913541139\n",
      "Number of times 'br' appears in spam emails: 674.0\n"
     ]
    }
   ],
   "source": [
    "# print likelihood of spam and ham for top N unique words\n",
    "n = 5\n",
    "print(f\"Likelihood of spam for top {n} unique words:\\n\")\n",
    "for word, count in list(unique_words.items())[:n]:\n",
    "    print(f\"P({word}|spam) = {likelihood_spam[word]}\")\n",
    "    # print the number of times the word appears in spam emails\n",
    "    print(f\"Number of times '{word}' appears in spam emails: {spam_train_set_feature_matrix[:,list(unique_words.keys()).index(word)].sum()}\")\n"
   ]
  },
  {
   "cell_type": "code",
   "execution_count": 24,
   "metadata": {},
   "outputs": [
    {
     "name": "stdout",
     "output_type": "stream",
     "text": [
      "\n",
      "Likelihood of ham for top 5 unique words:\n",
      "\n",
      "P(bb|ham) = 5.00954596815042e-05\n",
      "Number of times 'bb' appears in ham emails: 17.0\n",
      "P(td|ham) = 3.89631353078366e-05\n",
      "Number of times 'td' appears in ham emails: 13.0\n",
      "P(will|ham) = 0.006415001920325954\n",
      "Number of times 'will' appears in ham emails: 2304.0\n",
      "P(tr|ham) = 3.33969731210028e-05\n",
      "Number of times 'tr' appears in ham emails: 11.0\n",
      "P(br|ham) = 4.17462164012535e-05\n",
      "Number of times 'br' appears in ham emails: 14.0\n"
     ]
    }
   ],
   "source": [
    "\n",
    "print(f\"\\nLikelihood of ham for top {n} unique words:\\n\")\n",
    "for word, count in list(unique_words.items())[:n]:\n",
    "    # also print the number of times the word appears in ham emails\n",
    "    print(f\"P({word}|ham) = {likelihood_ham[word]}\")\n",
    "    print(f\"Number of times '{word}' appears in ham emails: {ham_train_set_feature_matrix[:,list(unique_words.keys()).index(word)].sum()}\")"
   ]
  },
  {
   "attachments": {},
   "cell_type": "markdown",
   "metadata": {},
   "source": [
    "### ======================"
   ]
  },
  {
   "attachments": {},
   "cell_type": "markdown",
   "metadata": {},
   "source": [
    "### V. CLASSIFYING THE EMAILS (10pts + 10pts for computing the log probabilities)"
   ]
  },
  {
   "cell_type": "code",
   "execution_count": 25,
   "metadata": {},
   "outputs": [],
   "source": [
    "# classify training set emails\n",
    "\n",
    "# create NB classifier function\n",
    "# uses the prior probability of spam and ham, and the likelihood of spam and ham, and email text to classify the email as spam or ham, use log probabilities to avoid underflow\n",
    "def classify_NB(email_text, prior_spam, prior_ham, likelihood_spam, likelihood_ham):\n",
    "    # initialize log probabilities of spam and ham\n",
    "    prob_spam = prior_spam\n",
    "    prob_ham = prior_ham\n",
    "    # iterate through words in email text\n",
    "    for word in email_text.split():\n",
    "        # if word is not in unique words, skip\n",
    "        if word not in unique_words:\n",
    "            continue\n",
    "        # BUGFIX: avoid missing keyword error by:\n",
    "        # 1. checking if word is in likelihood_spam\n",
    "        # 2. checking if word is in likelihood_ham\n",
    "        if word in likelihood_spam:\n",
    "            # update log probability of spam\n",
    "            prob_spam += np.log(likelihood_spam[word])\n",
    "        if word in likelihood_ham:\n",
    "            # update log probability of ham\n",
    "            prob_ham += np.log(likelihood_ham[word])\n",
    "        else:\n",
    "            continue\n",
    "        # if word in likelihood_spam and word in likelihood_ham:\n",
    "        #     # update log probabilities of spam and ham\n",
    "        #     prob_spam += np.log(likelihood_spam[word])\n",
    "        #     prob_ham += np.log(likelihood_ham[word])\n",
    "        # if word in unique_words:\n",
    "        #     # update log probabilities of spam and ham\n",
    "        #     prob_spam += np.log(likelihood_spam[word])\n",
    "        #     prob_ham += np.log(likelihood_ham[word])\n",
    "    # return spam or ham classification\n",
    "    if prob_spam > prob_ham:\n",
    "        return \"spam\"\n",
    "    else:\n",
    "        return \"ham\"\n"
   ]
  },
  {
   "cell_type": "code",
   "execution_count": 26,
   "metadata": {},
   "outputs": [
    {
     "name": "stdout",
     "output_type": "stream",
     "text": [
      "Classifying first email in training set:\n",
      "Email Location:  000/000\n",
      "Actual Label:  ham\n",
      "Predicted label:  ham\n"
     ]
    }
   ],
   "source": [
    "# test NB classifier function\n",
    "# classify first email in training set\n",
    "print(\"Classifying first email in training set:\")\n",
    "# remember this is numpy array, so you can't use .iloc:\n",
    "print(\"Email Location: \", train_set[0][0]) # actual label\n",
    "print(\"Actual Label: \", train_set[0][1]) # email location\n",
    "print(\"Predicted label: \", classify_NB(train_set[0][2], prior_spam, prior_ham, likelihood_spam, likelihood_ham)) # predicted label"
   ]
  },
  {
   "cell_type": "code",
   "execution_count": 27,
   "metadata": {},
   "outputs": [],
   "source": [
    "# function to classify emails\n",
    "def classify_all_NB(email_set, prior_spam, prior_ham, likelihood_spam, likelihood_ham):\n",
    "    # create list to store actual labels\n",
    "    actual_labels = []\n",
    "    # create list to store predicted labels\n",
    "    predicted_labels = []\n",
    "    # iterate through entire training set\n",
    "    for email in email_set:\n",
    "        # BUGFIX: convert email text to string to avoid error\n",
    "        email[2] = str(email[2])\n",
    "        if type(email[2]) == str:\n",
    "            # get actual label\n",
    "            actual_label = email[1]\n",
    "            # get predicted label\n",
    "            predicted_label = classify_NB(email[2], prior_spam, prior_ham, likelihood_spam, likelihood_ham)\n",
    "            # append actual label to actual_labels list\n",
    "            actual_labels.append(actual_label)\n",
    "            # append predicted label to predicted_labels list\n",
    "            predicted_labels.append(predicted_label)\n",
    "    # return actual labels and predicted labels\n",
    "    return actual_labels, predicted_labels"
   ]
  },
  {
   "attachments": {},
   "cell_type": "markdown",
   "metadata": {},
   "source": [
    "### ======================"
   ]
  },
  {
   "attachments": {},
   "cell_type": "markdown",
   "metadata": {},
   "source": [
    "### VI. TESTING THE CLASSIFIER (10pts)"
   ]
  },
  {
   "attachments": {},
   "cell_type": "markdown",
   "metadata": {},
   "source": [
    "#### VI.A. Testing the classifier on the TRAINING SET"
   ]
  },
  {
   "cell_type": "code",
   "execution_count": 28,
   "metadata": {},
   "outputs": [
    {
     "name": "stdout",
     "output_type": "stream",
     "text": [
      "Correctly Classified TRAIN SET: 19844/21300\n",
      "Correct/Actual %: 0.9316\n"
     ]
    }
   ],
   "source": [
    "# call function to classify training set\n",
    "actual_labels_train, predicted_labels_train = classify_all_NB(train_set, prior_spam, prior_ham, likelihood_spam, likelihood_ham)\n",
    "actual = np.array(actual_labels_train)\n",
    "predicted = np.array(predicted_labels_train)\n",
    "correct = actual == predicted\n",
    "\n",
    "# print number of correct predictions\n",
    "print(f'Correctly Classified TRAIN SET: {sum(correct)}/{len(actual_labels_train)}')\n",
    "print(f'Correct/Actual %: {sum(correct)/len(actual_labels_train):.4f}')"
   ]
  },
  {
   "cell_type": "code",
   "execution_count": 29,
   "metadata": {},
   "outputs": [
    {
     "name": "stdout",
     "output_type": "stream",
     "text": [
      "Email Location\tActual Label\tPredicted Label\n",
      "000/000\t\tham\t\tham\n",
      "000/001\t\tspam\t\tspam\n",
      "000/002\t\tspam\t\tspam\n",
      "000/003\t\tham\t\tham\n",
      "000/004\t\tspam\t\tham\n",
      "000/005\t\tham\t\tham\n",
      "000/006\t\tham\t\tham\n",
      "000/007\t\tspam\t\tspam\n",
      "000/008\t\tspam\t\tspam\n",
      "000/009\t\tspam\t\tham\n"
     ]
    }
   ],
   "source": [
    "# print as a table (columns: email location, actual label, predicted label)\n",
    "n = 10\n",
    "\n",
    "print(f\"Email Location\\tActual Label\\tPredicted Label\")\n",
    "for i in range(n):\n",
    "    print(f\"{train_set[i][0]}\\t\\t{actual_labels_train[i]}\\t\\t{predicted_labels_train[i]}\")"
   ]
  },
  {
   "attachments": {},
   "cell_type": "markdown",
   "metadata": {},
   "source": [
    "#### VI.B. Testing the classifier on the TEST SET"
   ]
  },
  {
   "cell_type": "code",
   "execution_count": 30,
   "metadata": {},
   "outputs": [
    {
     "name": "stdout",
     "output_type": "stream",
     "text": [
      "Correctly Classified TEST Set: 14975/16522\n",
      "Correct/Actual %: 0.9064\n"
     ]
    }
   ],
   "source": [
    "# call function to classify TEST set\n",
    "actual_labels_test, predicted_labels_test = classify_all_NB(test_set, prior_spam, prior_ham, likelihood_spam, likelihood_ham)\n",
    "actual = np.array(actual_labels_test)\n",
    "predicted = np.array(predicted_labels_test)\n",
    "correct = actual == predicted\n",
    "\n",
    "# print number of correct predictions\n",
    "print(f'Correctly Classified TEST Set: {sum(correct)}/{len(actual_labels_test)}')\n",
    "print(f'Correct/Actual %: {sum(correct)/len(actual_labels_test):.4f}')"
   ]
  },
  {
   "cell_type": "code",
   "execution_count": 31,
   "metadata": {},
   "outputs": [
    {
     "name": "stdout",
     "output_type": "stream",
     "text": [
      "Email Location\tActual Label\tPredicted Label\n",
      "071/000\t\tspam\t\tspam\n",
      "071/001\t\tham\t\tham\n",
      "071/002\t\tspam\t\tspam\n",
      "071/003\t\tspam\t\tspam\n",
      "071/004\t\tspam\t\tspam\n",
      "071/005\t\tspam\t\tspam\n",
      "071/006\t\tspam\t\tspam\n",
      "071/007\t\tspam\t\tspam\n",
      "071/008\t\tspam\t\tspam\n",
      "071/009\t\tham\t\tham\n"
     ]
    }
   ],
   "source": [
    "# print as a table (columns: email location, actual label, predicted label)\n",
    "n = 10\n",
    "\n",
    "print(f\"Email Location\\tActual Label\\tPredicted Label\")\n",
    "for i in range(n):\n",
    "    print(f\"{test_set[i][0]}\\t\\t{actual_labels_test[i]}\\t\\t{predicted_labels_test[i]}\")"
   ]
  },
  {
   "attachments": {},
   "cell_type": "markdown",
   "metadata": {},
   "source": [
    "### ======================"
   ]
  },
  {
   "attachments": {},
   "cell_type": "markdown",
   "metadata": {},
   "source": [
    "### VII. PERFORMANCE EVALUATION (10pts)"
   ]
  },
  {
   "cell_type": "code",
   "execution_count": 32,
   "metadata": {},
   "outputs": [],
   "source": [
    "# Performance Metrics:\n",
    "# Accuracy = (TP + TN) / (TP + TN + FP + FN)\n",
    "# Precision = TP / (TP + FP)\n",
    "# Recall = TP / (TP + FN)\n",
    "\n",
    "# use sklearn to compute accuracy, precision, and recall\n",
    "from sklearn.metrics import accuracy_score, precision_score, recall_score\n",
    "\n",
    "def compute_metrics(actual_labels, predicted_labels):\n",
    "    # compute accuracy, precision, and recall\n",
    "    accuracy = accuracy_score(actual_labels, predicted_labels)\n",
    "    precision = precision_score(actual_labels, predicted_labels, pos_label=\"spam\")\n",
    "    recall = recall_score(actual_labels, predicted_labels, pos_label=\"spam\")\n",
    "    # return accuracy, precision, and recall\n",
    "    return accuracy, precision, recall\n",
    "\n",
    "# use sklearn to compute confusion matrix\n",
    "from sklearn.metrics import confusion_matrix as cm\n",
    "\n",
    "def compute_confusion_matrix(actual_labels, predicted_labels):\n",
    "    # compute confusion matrix\n",
    "    confusion_matrix = cm(actual_labels, predicted_labels, labels=[\"spam\", \"ham\"])\n",
    "    # return confusion matrix\n",
    "    return confusion_matrix"
   ]
  },
  {
   "cell_type": "code",
   "execution_count": 33,
   "metadata": {},
   "outputs": [],
   "source": [
    "# function that gets metrics for training set (to be used in the RESULTS AND DISCUSSION section)\n",
    "def get_metrics_training_set(actual_labels, predicted_labels):\n",
    "    # get accuracy, precision, and recall\n",
    "    accuracy, precision, recall = compute_metrics(actual_labels, predicted_labels)\n",
    "    # get confusion matrix\n",
    "    confusion_matrix = compute_confusion_matrix(actual_labels, predicted_labels)\n",
    "    return accuracy, precision, recall, confusion_matrix"
   ]
  },
  {
   "cell_type": "code",
   "execution_count": 34,
   "metadata": {},
   "outputs": [],
   "source": [
    "# function that prints the confusion matrix and metrics\n",
    "def print_metrics(actual_labels, predicted_labels):\n",
    "    # compute metrics to get accuracy, precision, and recall\n",
    "    accuracy, precision, recall = compute_metrics(actual_labels, predicted_labels)\n",
    "    # compute confusion matrix\n",
    "    confusion_matrix = compute_confusion_matrix(actual_labels, predicted_labels)\n",
    "    # print metrics\n",
    "    print(\"Confusion Matrix:\")\n",
    "    print(confusion_matrix)\n",
    "    print(f\"Accuracy: {accuracy:.4f}\")\n",
    "    print(f\"Precision: {precision:.4f}\")\n",
    "    print(f\"Recall: {recall:.4f}\")\n"
   ]
  },
  {
   "cell_type": "code",
   "execution_count": 35,
   "metadata": {},
   "outputs": [
    {
     "name": "stdout",
     "output_type": "stream",
     "text": [
      "TRAINING SET METRICS:\n",
      "Confusion Matrix:\n",
      "[[12415  1362]\n",
      " [   94  7429]]\n",
      "Accuracy: 0.9316\n",
      "Precision: 0.9925\n",
      "Recall: 0.9011\n",
      "\n",
      "TEST SET METRICS:\n",
      "Confusion Matrix:\n",
      "[[9827 1308]\n",
      " [ 239 5148]]\n",
      "Accuracy: 0.9064\n",
      "Precision: 0.9763\n",
      "Recall: 0.8825\n"
     ]
    }
   ],
   "source": [
    "# TEST function to print metrics\n",
    "print(\"TRAINING SET METRICS:\")\n",
    "print_metrics(actual_labels_train, predicted_labels_train)\n",
    "print()\n",
    "print(\"TEST SET METRICS:\")\n",
    "print_metrics(actual_labels_test, predicted_labels_test)"
   ]
  },
  {
   "attachments": {},
   "cell_type": "markdown",
   "metadata": {},
   "source": [
    "### ======== END OF CODE ========"
   ]
  },
  {
   "attachments": {},
   "cell_type": "markdown",
   "metadata": {},
   "source": [
    "### RESULTS AND DISCUSSION"
   ]
  },
  {
   "attachments": {},
   "cell_type": "markdown",
   "metadata": {},
   "source": [
    "### 0. Full Naive Bayes Classifier function for easy testing"
   ]
  },
  {
   "cell_type": "code",
   "execution_count": 55,
   "metadata": {},
   "outputs": [],
   "source": [
    "def complete_NB(emails_clean, stop_words, k_greater, k_equals, lambda_val):\n",
    "    # filter the number of words occuring more than k times\n",
    "    unique_words = count_unique_words(emails_clean)\n",
    "    if k_equals > 0:\n",
    "        unique_words = {word:count for word, count in unique_words.items() if count == k_equals}\n",
    "    elif k_greater >= 0:\n",
    "        unique_words = {word:count for word, count in unique_words.items() if count > k_greater}\n",
    "    # split into training and test sets\n",
    "    train_set, test_set = split_train_test(emails_clean)\n",
    "\n",
    "    # create training set for spam\n",
    "    spam_train_set = train_set [train_set[:,1] == 'spam'] # use [:,1] to get the second column which is the label == 'spam'\n",
    "    spam_train_set_text = spam_train_set[:,2] # use [:,2] to get the third column which is the text\n",
    "    # create feature matrix for spam training set feature matrix\n",
    "    spam_train_set_feature_matrix = create_feature_matrix(spam_train_set_text, unique_words)\n",
    "\n",
    "    # create training set for ham\n",
    "    ham_train_set = train_set [train_set[:,1] == 'ham'] # use [:,1] to get the second column which is the label == 'ham'\n",
    "    ham_train_set_text = ham_train_set[:,2] # get the third column which is the text\n",
    "    # create feature matrix for ham training set feature matrix\n",
    "    ham_train_set_feature_matrix = create_feature_matrix(ham_train_set_text, unique_words)\n",
    "\n",
    "    # get number of spam emails\n",
    "    spam_train_set_size = spam_train_set.shape[0]\n",
    "    # get number of ham emails\n",
    "    ham_train_set_size = ham_train_set.shape[0]\n",
    "    # get total number of emails\n",
    "    total_train_set_size = train_set.shape[0]\n",
    "\n",
    "    # compute prior probability of spam and ham\n",
    "    prior_spam = spam_train_set_size / total_train_set_size\n",
    "    prior_ham = ham_train_set_size / total_train_set_size\n",
    "\n",
    "    # compute number of words in spam emails\n",
    "    spam_train_set_words = spam_train_set_feature_matrix.sum()\n",
    "    # compute number of words in ham emails\n",
    "    ham_train_set_words = ham_train_set_feature_matrix.sum()\n",
    "\n",
    "    # create likelihood of spam and ham\n",
    "    likelihood_spam = create_likelihood(lambda_val, spam_train_set_feature_matrix, spam_train_set_words, unique_words)\n",
    "    likelihood_ham = create_likelihood(lambda_val, ham_train_set_feature_matrix, ham_train_set_words, unique_words)\n",
    "\n",
    "    # call function to classify training set\n",
    "    actual_labels_test, predicted_labels_test = classify_all_NB(test_set, prior_spam, prior_ham, likelihood_spam, likelihood_ham)\n",
    "    actual_labels_train, predicted_labels_train = classify_all_NB(train_set, prior_spam, prior_ham, likelihood_spam, likelihood_ham)\n",
    "\n",
    "    if k_equals > 0:\n",
    "        print(f\"TRAINING SET METRICS WITH K = {k_equals} and lambda = {lambda_val}:\")\n",
    "        print_metrics(actual_labels_train, predicted_labels_train)\n",
    "        print()\n",
    "        print(f\"TEST SET METRICS WITH K = {k_equals} and lambda = {lambda_val}:\")\n",
    "        print_metrics(actual_labels_test, predicted_labels_test)\n",
    "    elif k_greater >= 0:\n",
    "        print(f\"TRAINING SET METRICS WITH K > {k_greater} and lambda = {lambda_val}:\")\n",
    "        print_metrics(actual_labels_train, predicted_labels_train)\n",
    "        print()\n",
    "        print(f\"TEST SET METRICS WITH K > {k_greater} and lambda = {lambda_val}:\")\n",
    "        print_metrics(actual_labels_test, predicted_labels_test)"
   ]
  },
  {
   "attachments": {},
   "cell_type": "markdown",
   "metadata": {},
   "source": [
    "### 1. Effect of removing stop words"
   ]
  },
  {
   "cell_type": "code",
   "execution_count": 50,
   "metadata": {},
   "outputs": [
    {
     "name": "stdout",
     "output_type": "stream",
     "text": [
      "TRAINING SET METRICS WITH K > 0 and lambda = 1:\n",
      "Confusion Matrix:\n",
      "[[12566  1211]\n",
      " [  100  7423]]\n",
      "Accuracy: 0.9385\n",
      "Precision: 0.9921\n",
      "Recall: 0.9121\n",
      "\n",
      "TEST SET METRICS WITH K > 0 and lambda = 1:\n",
      "Confusion Matrix:\n",
      "[[10030  1105]\n",
      " [  285  5102]]\n",
      "Accuracy: 0.9159\n",
      "Precision: 0.9724\n",
      "Recall: 0.9008\n"
     ]
    }
   ],
   "source": [
    "stop_words = []\n",
    "k_greater = 0\n",
    "k_equals = 0\n",
    "lambda_val = 1\n",
    "emails_clean = []\n",
    "emails_clean = emails.copy()\n",
    "emails_clean = clean(emails_clean, stop_words)\n",
    "\n",
    "complete_NB(emails_clean, stop_words, k_greater, k_equals, lambda_val)"
   ]
  },
  {
   "attachments": {},
   "cell_type": "markdown",
   "metadata": {},
   "source": [
    "### 2. Experiment on the number of words used in training."
   ]
  },
  {
   "cell_type": "code",
   "execution_count": 51,
   "metadata": {},
   "outputs": [
    {
     "name": "stdout",
     "output_type": "stream",
     "text": [
      "TRAINING SET METRICS WITH K > 1000 and lambda = 1:\n",
      "Confusion Matrix:\n",
      "[[12445  1332]\n",
      " [  256  7267]]\n",
      "Accuracy: 0.9254\n",
      "Precision: 0.9798\n",
      "Recall: 0.9033\n",
      "\n",
      "TEST SET METRICS WITH K > 1000 and lambda = 1:\n",
      "Confusion Matrix:\n",
      "[[9968 1167]\n",
      " [ 457 4930]]\n",
      "Accuracy: 0.9017\n",
      "Precision: 0.9562\n",
      "Recall: 0.8952\n"
     ]
    }
   ],
   "source": [
    "# with K = 1000\n",
    "stop_words = stop_words_orig\n",
    "k_greater = 1000\n",
    "k_equals = 0\n",
    "lambda_val = 1\n",
    "emails_clean = []\n",
    "emails_clean = emails.copy()\n",
    "emails_clean = clean(emails_clean, stop_words)\n",
    "\n",
    "complete_NB(emails_clean, stop_words, k_greater, k_equals, lambda_val)"
   ]
  },
  {
   "cell_type": "code",
   "execution_count": 52,
   "metadata": {},
   "outputs": [
    {
     "name": "stdout",
     "output_type": "stream",
     "text": [
      "TRAINING SET METRICS WITH K > 100 and lambda = 1:\n",
      "Confusion Matrix:\n",
      "[[12477  1300]\n",
      " [  104  7419]]\n",
      "Accuracy: 0.9341\n",
      "Precision: 0.9917\n",
      "Recall: 0.9056\n",
      "\n",
      "TEST SET METRICS WITH K > 100 and lambda = 1:\n",
      "Confusion Matrix:\n",
      "[[9880 1255]\n",
      " [ 268 5119]]\n",
      "Accuracy: 0.9078\n",
      "Precision: 0.9736\n",
      "Recall: 0.8873\n"
     ]
    }
   ],
   "source": [
    "# with K > 100\n",
    "stop_words = stop_words_orig\n",
    "k_greater = 100\n",
    "k_equals = 0\n",
    "lambda_val = 1\n",
    "emails_clean = []\n",
    "emails_clean = emails.copy()\n",
    "emails_clean = clean(emails_clean, stop_words)\n",
    "\n",
    "complete_NB(emails_clean, stop_words, k_greater, k_equals, lambda_val)"
   ]
  },
  {
   "cell_type": "code",
   "execution_count": 56,
   "metadata": {},
   "outputs": [
    {
     "name": "stdout",
     "output_type": "stream",
     "text": [
      "TRAINING SET METRICS WITH K = 50 and lambda = 1:\n",
      "Confusion Matrix:\n",
      "[[13682    95]\n",
      " [ 6982   541]]\n",
      "Accuracy: 0.6677\n",
      "Precision: 0.6621\n",
      "Recall: 0.9931\n",
      "\n",
      "TEST SET METRICS WITH K = 50 and lambda = 1:\n",
      "Confusion Matrix:\n",
      "[[11014   121]\n",
      " [ 4622   765]]\n",
      "Accuracy: 0.7129\n",
      "Precision: 0.7044\n",
      "Recall: 0.9891\n"
     ]
    }
   ],
   "source": [
    "# with K = 50\n",
    "stop_words = stop_words_orig\n",
    "k_greater = 0\n",
    "k_equals = 50\n",
    "lambda_val = 1\n",
    "emails_clean = []\n",
    "emails_clean = emails.copy()\n",
    "emails_clean = clean(emails_clean, stop_words)\n",
    "\n",
    "complete_NB(emails_clean, stop_words, k_greater, k_equals, lambda_val)"
   ]
  },
  {
   "attachments": {},
   "cell_type": "markdown",
   "metadata": {},
   "source": [
    "### 3. Experiment on the Lambda values (2.0, 1.0, 0.5, 0.1, 0.005)"
   ]
  },
  {
   "cell_type": "code",
   "execution_count": 57,
   "metadata": {},
   "outputs": [
    {
     "name": "stdout",
     "output_type": "stream",
     "text": [
      "lambda = 2.0\n",
      "TRAINING SET METRICS WITH K > 0 and lambda = 2.0:\n",
      "Confusion Matrix:\n",
      "[[12409  1368]\n",
      " [   95  7428]]\n",
      "Accuracy: 0.9313\n",
      "Precision: 0.9924\n",
      "Recall: 0.9007\n",
      "\n",
      "TEST SET METRICS WITH K > 0 and lambda = 2.0:\n",
      "Confusion Matrix:\n",
      "[[9820 1315]\n",
      " [ 245 5142]]\n",
      "Accuracy: 0.9056\n",
      "Precision: 0.9757\n",
      "Recall: 0.8819\n",
      "\n",
      "lambda = 1.0\n",
      "TRAINING SET METRICS WITH K > 0 and lambda = 1.0:\n",
      "Confusion Matrix:\n",
      "[[12651  1126]\n",
      " [   93  7430]]\n",
      "Accuracy: 0.9428\n",
      "Precision: 0.9927\n",
      "Recall: 0.9183\n",
      "\n",
      "TEST SET METRICS WITH K > 0 and lambda = 1.0:\n",
      "Confusion Matrix:\n",
      "[[10030  1105]\n",
      " [  238  5149]]\n",
      "Accuracy: 0.9187\n",
      "Precision: 0.9768\n",
      "Recall: 0.9008\n",
      "\n",
      "lambda = 0.5\n",
      "TRAINING SET METRICS WITH K > 0 and lambda = 0.5:\n",
      "Confusion Matrix:\n",
      "[[12664  1113]\n",
      " [   93  7430]]\n",
      "Accuracy: 0.9434\n",
      "Precision: 0.9927\n",
      "Recall: 0.9192\n",
      "\n",
      "TEST SET METRICS WITH K > 0 and lambda = 0.5:\n",
      "Confusion Matrix:\n",
      "[[10042  1093]\n",
      " [  236  5151]]\n",
      "Accuracy: 0.9196\n",
      "Precision: 0.9770\n",
      "Recall: 0.9018\n",
      "\n",
      "lambda = 0.1\n",
      "TRAINING SET METRICS WITH K > 0 and lambda = 0.1:\n",
      "Confusion Matrix:\n",
      "[[12696  1081]\n",
      " [   90  7433]]\n",
      "Accuracy: 0.9450\n",
      "Precision: 0.9930\n",
      "Recall: 0.9215\n",
      "\n",
      "TEST SET METRICS WITH K > 0 and lambda = 0.1:\n",
      "Confusion Matrix:\n",
      "[[10042  1093]\n",
      " [  223  5164]]\n",
      "Accuracy: 0.9203\n",
      "Precision: 0.9783\n",
      "Recall: 0.9018\n",
      "\n",
      "lambda = 0.005\n",
      "TRAINING SET METRICS WITH K > 0 and lambda = 0.005:\n",
      "Confusion Matrix:\n",
      "[[12713  1064]\n",
      " [   89  7434]]\n",
      "Accuracy: 0.9459\n",
      "Precision: 0.9930\n",
      "Recall: 0.9228\n",
      "\n",
      "TEST SET METRICS WITH K > 0 and lambda = 0.005:\n",
      "Confusion Matrix:\n",
      "[[10028  1107]\n",
      " [  215  5172]]\n",
      "Accuracy: 0.9200\n",
      "Precision: 0.9790\n",
      "Recall: 0.9006\n",
      "\n"
     ]
    }
   ],
   "source": [
    "stop_words = stop_words_orig\n",
    "k_greater = 0\n",
    "k_equals = 0\n",
    "emails_clean = []\n",
    "emails_clean = emails.copy()\n",
    "emails_clean = clean(emails_clean, stop_words)\n",
    "\n",
    "lambda_values = [2.0, 1.0, 0.5, 0.1, 0.005]\n",
    "\n",
    "for lambda_val in lambda_values:\n",
    "    print(f\"lambda = {lambda_val}\")\n",
    "    complete_NB(emails_clean, stop_words, k_greater, k_equals, lambda_val)\n",
    "    print()"
   ]
  },
  {
   "cell_type": "code",
   "execution_count": 68,
   "metadata": {},
   "outputs": [
    {
     "data": {
      "image/png": "[encoded data removed]",
      "text/plain": [
       "<Figure size 640x480 with 1 Axes>"
      ]
     },
     "metadata": {},
     "output_type": "display_data"
    }
   ],
   "source": [
    "# save all the results in a list so it can be used for plotting\n",
    "\n",
    "lambda_metrics = [0] * len(lambda_values)\n",
    "# format: lambda_metrics[i] = [lambda, accuracy, precision, recall]\n",
    "\n",
    "lambda_metrics[0] = [2.0, 0.9056, 0.9757, 0.8819]\n",
    "lambda_metrics[1] = [1.0, 0.9187, 0.9768, 0.9008]\n",
    "lambda_metrics[2] = [0.5, 0.9196, 0.9770, 0.9018]\n",
    "lambda_metrics[3] = [0.1, 0.9203, 0.9783, 0.9018]\n",
    "lambda_metrics[4] = [0.005, 0.9200, 0.9790, 0.9006]\n",
    "\n",
    "# plot the results: lambda vs accuracy, precision, recall\n",
    "plot = pd.DataFrame(lambda_metrics, columns = ['lambda', 'accuracy', 'precision', 'recall'])\n",
    "plot.plot(x = 'lambda', y = ['accuracy', 'precision', 'recall'], kind = 'line')\n",
    "# legend\n",
    "# indicate line on the lambda values:\n",
    "for i in range(len(lambda_values)):\n",
    "    plt.axvline(x = lambda_values[i], color = 'black', linestyle = '--')\n",
    "plt.legend(loc = 'lower left')\n",
    "# title\n",
    "plt.title('TEST SET: lambda vs accuracy, precision, recall')\n",
    "# x-axis label\n",
    "plt.xlabel('lambda')\n",
    "# y-axis label\n",
    "plt.ylabel('accuracy, precision, recall')\n",
    "plt.show()\n"
   ]
  }
 ],
 "metadata": {
  "kernelspec": {
   "display_name": "Python 3",
   "language": "python",
   "name": "python3"
  },
  "language_info": {
   "codemirror_mode": {
    "name": "ipython",
    "version": 3
   },
   "file_extension": ".py",
   "mimetype": "text/x-python",
   "name": "python",
   "nbconvert_exporter": "python",
   "pygments_lexer": "ipython3",
   "version": "3.10.0"
  },
  "orig_nbformat": 4,
  "vscode": {
   "interpreter": {
    "hash": "876db7d3f8682b7e4c5477e5f1e2dc2bd1b19fe05d9aabd59218369070754b39"
   }
  }
 },
 "nbformat": 4,
 "nbformat_minor": 2
}
